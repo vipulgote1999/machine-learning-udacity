{
  "nbformat": 4,
  "nbformat_minor": 0,
  "metadata": {
    "colab": {
      "name": "k means clustring .ipynb",
      "provenance": [],
      "include_colab_link": true
    },
    "kernelspec": {
      "name": "python2",
      "display_name": "Python 2"
    },
    "accelerator": "GPU"
  },
  "cells": [
    {
      "cell_type": "markdown",
      "metadata": {
        "id": "view-in-github",
        "colab_type": "text"
      },
      "source": [
        "<a href=\"https://colab.research.google.com/github/vipulgote1999/machine-learning-udacity/blob/master/k_means_clustring_.ipynb\" target=\"_parent\"><img src=\"https://colab.research.google.com/assets/colab-badge.svg\" alt=\"Open In Colab\"/></a>"
      ]
    },
    {
      "cell_type": "code",
      "metadata": {
        "id": "z5JfwuhW4KA-",
        "colab_type": "code",
        "colab": {
          "base_uri": "https://localhost:8080/",
          "height": 105
        },
        "outputId": "631ac4ad-c239-445b-a873-d8e06a55b130"
      },
      "source": [
        "!git clone 'https://github.com/udacity/ud120-projects.git'"
      ],
      "execution_count": 1,
      "outputs": [
        {
          "output_type": "stream",
          "text": [
            "Cloning into 'ud120-projects'...\n",
            "remote: Enumerating objects: 5046, done.\u001b[K\n",
            "remote: Total 5046 (delta 0), reused 0 (delta 0), pack-reused 5046\u001b[K\n",
            "Receiving objects: 100% (5046/5046), 19.64 MiB | 14.98 MiB/s, done.\n",
            "Resolving deltas: 100% (4372/4372), done.\n"
          ],
          "name": "stdout"
        }
      ]
    },
    {
      "cell_type": "code",
      "metadata": {
        "id": "TgxGi_lR3lnE",
        "colab_type": "code",
        "colab": {
          "base_uri": "https://localhost:8080/",
          "height": 548
        },
        "outputId": "0542c999-0751-49a4-c777-6e11b9d49a26"
      },
      "source": [
        "#!/usr/bin/python \n",
        "\n",
        "\"\"\" \n",
        "    Skeleton code for k-means clustering mini-project.\n",
        "\"\"\"\n",
        "\n",
        "\n",
        "\n",
        "import sklearn\n",
        "from sklearn.cluster import *\n",
        "import pickle\n",
        "import numpy\n",
        "import matplotlib.pyplot as plt\n",
        "import sys\n",
        "sys.path.append(\"/content/ud120-projects/tools\")\n",
        "from feature_format import featureFormat, targetFeatureSplit\n",
        "\n",
        "\n",
        "\n",
        "\n",
        "def Draw(pred, features, poi, mark_poi=False, name=\"image.png\", f1_name=\"feature 1\", f2_name=\"feature 2\"):\n",
        "    \"\"\" some plotting code designed to help you visualize your clusters \"\"\"\n",
        "\n",
        "    ### plot each cluster with a different color--add more colors for\n",
        "    ### drawing more than five clusters\n",
        "    colors = [\"b\", \"c\", \"k\", \"m\", \"g\"]\n",
        "    for ii, pp in enumerate(pred):\n",
        "        plt.scatter(features[ii][0], features[ii][1], color = colors[pred[ii]])\n",
        "\n",
        "    ### if you like, place red stars over points that are POIs (just for funsies)\n",
        "    if mark_poi:\n",
        "        for ii, pp in enumerate(pred):\n",
        "            if poi[ii]:\n",
        "                plt.scatter(features[ii][0], features[ii][1], color=\"r\", marker=\"*\")\n",
        "    plt.xlabel(f1_name)\n",
        "    plt.ylabel(f2_name)\n",
        "    plt.savefig(name)\n",
        "    plt.show()\n",
        "\n",
        "\n",
        "\n",
        "### load in the dict of dicts containing all the data on each person in the dataset\n",
        "data_dict = pickle.load( open(\"/content/ud120-projects/final_project/final_project_dataset.pkl\", \"r\") )\n",
        "### there's an outlier--remove it! \n",
        "data_dict.pop(\"TOTAL\", 0)\n",
        "\n",
        "\n",
        "### the input features we want to use \n",
        "### can be any key in the person-level dictionary (salary, director_fees, etc.) \n",
        "feature_1 = \"salary\"\n",
        "feature_2 = \"exercised_stock_options\"\n",
        "feature_3=\"total_payments\"\n",
        "poi  = \"poi\"\n",
        "features_list = [poi, feature_1, feature_2,feature_3]\n",
        "data = featureFormat(data_dict, features_list )\n",
        "poi, finance_features = targetFeatureSplit( data )\n",
        "\n",
        "\n",
        "### in the \"clustering with 3 features\" part of the mini-project,\n",
        "### you'll want to change this line to \n",
        "### for f1, f2, _ in finance_features:\n",
        "### (as it's currently written, the line below assumes 2 features)\n",
        "for f1, f2 ,_ in finance_features:\n",
        "    plt.scatter( f1, f2 )\n",
        "plt.show()\n",
        "\n",
        "### cluster here; create predictions of the cluster labels\n",
        "### for the data and store them to a list called pred\n",
        "model=sklearn.cluster.KMeans(n_clusters=3)\n",
        "model.fit(finance_features)\n",
        "pred=model.predict(finance_features)\n",
        "### rename the \"name\" parameter when you change the number of features\n",
        "### so that the figure gets saved to a different file\n",
        "try:\n",
        "    Draw(pred, finance_features, poi, mark_poi=False, name=\"clusters.pdf\", f1_name=feature_1, f2_name=feature_2)\n",
        "except NameError:\n",
        "    print \"no predictions object named pred found, no clusters to plot\"\n"
      ],
      "execution_count": 26,
      "outputs": [
        {
          "output_type": "display_data",
          "data": {
            "image/png": "[encoded data removed]",
            "text/plain": [
              "<Figure size 432x288 with 1 Axes>"
            ]
          },
          "metadata": {
            "tags": []
          }
        },
        {
          "output_type": "display_data",
          "data": {
            "image/png": "[encoded data removed]",
            "text/plain": [
              "<Figure size 432x288 with 1 Axes>"
            ]
          },
          "metadata": {
            "tags": []
          }
        }
      ]
    }
  ]
}