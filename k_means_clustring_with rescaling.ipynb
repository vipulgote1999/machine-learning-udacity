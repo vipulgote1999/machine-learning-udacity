{
  "nbformat": 4,
  "nbformat_minor": 0,
  "metadata": {
    "colab": {
      "name": "k means clustring .ipynb",
      "provenance": [],
      "include_colab_link": true
    },
    "kernelspec": {
      "name": "python2",
      "display_name": "Python 2"
    },
    "accelerator": "GPU"
  },
  "cells": [
    {
      "cell_type": "markdown",
      "metadata": {
        "id": "view-in-github",
        "colab_type": "text"
      },
      "source": [
        "<a href=\"https://colab.research.google.com/github/vipulgote1999/machine-learning-udacity/blob/master/k_means_clustring_with%20rescaling.ipynb\" target=\"_parent\"><img src=\"https://colab.research.google.com/assets/colab-badge.svg\" alt=\"Open In Colab\"/></a>"
      ]
    },
    {
      "cell_type": "code",
      "metadata": {
        "id": "z5JfwuhW4KA-",
        "colab_type": "code",
        "outputId": "1b7f648a-2582-4e49-a0a3-a92f051a03b9",
        "colab": {
          "base_uri": "https://localhost:8080/",
          "height": 105
        }
      },
      "source": [
        "!git clone 'https://github.com/udacity/ud120-projects.git'"
      ],
      "execution_count": 0,
      "outputs": [
        {
          "output_type": "stream",
          "text": [
            "Cloning into 'ud120-projects'...\n",
            "remote: Enumerating objects: 5046, done.\u001b[K\n",
            "remote: Total 5046 (delta 0), reused 0 (delta 0), pack-reused 5046\u001b[K\n",
            "Receiving objects: 100% (5046/5046), 19.64 MiB | 22.96 MiB/s, done.\n",
            "Resolving deltas: 100% (4372/4372), done.\n"
          ],
          "name": "stdout"
        }
      ]
    },
    {
      "cell_type": "code",
      "metadata": {
        "id": "TgxGi_lR3lnE",
        "colab_type": "code",
        "outputId": "a4b68fd6-2665-44a3-da8a-edb2e7eb5359",
        "colab": {
          "base_uri": "https://localhost:8080/",
          "height": 548
        }
      },
      "source": [
        "#!/usr/bin/python \n",
        "\n",
        "\"\"\" \n",
        "    Skeleton code for k-means clustering mini-project.\n",
        "\"\"\"\n",
        "\n",
        "\n",
        "\n",
        "import sklearn\n",
        "from sklearn.cluster import *\n",
        "import pickle\n",
        "import numpy\n",
        "import matplotlib.pyplot as plt\n",
        "import sys\n",
        "sys.path.append(\"/content/ud120-projects/tools\")\n",
        "from feature_format import featureFormat, targetFeatureSplit\n",
        "\n",
        "\n",
        "\n",
        "\n",
        "def Draw(pred, features, poi, mark_poi=False, name=\"image.png\", f1_name=\"feature 1\", f2_name=\"feature 2\"):\n",
        "    \"\"\" some plotting code designed to help you visualize your clusters \"\"\"\n",
        "\n",
        "    ### plot each cluster with a different color--add more colors for\n",
        "    ### drawing more than five clusters\n",
        "    colors = [\"b\", \"c\", \"k\", \"m\", \"g\"]\n",
        "    for ii, pp in enumerate(pred):\n",
        "        plt.scatter(features[ii][0], features[ii][1], color = colors[pred[ii]])\n",
        "\n",
        "    ### if you like, place red stars over points that are POIs (just for funsies)\n",
        "    if mark_poi:\n",
        "        for ii, pp in enumerate(pred):\n",
        "            if poi[ii]:\n",
        "                plt.scatter(features[ii][0], features[ii][1], color=\"r\", marker=\"*\")\n",
        "    plt.xlabel(f1_name)\n",
        "    plt.ylabel(f2_name)\n",
        "    plt.savefig(name)\n",
        "    plt.show()\n",
        "\n",
        "\n",
        "\n",
        "### load in the dict of dicts containing all the data on each person in the dataset\n",
        "data_dict = pickle.load( open(\"/content/ud120-projects/final_project/final_project_dataset.pkl\", \"r\") )\n",
        "### there's an outlier--remove it! \n",
        "data_dict.pop(\"TOTAL\", 0)\n",
        "\n",
        "\n",
        "### the input features we want to use \n",
        "### can be any key in the person-level dictionary (salary, director_fees, etc.) \n",
        "feature_1 = \"salary\"\n",
        "feature_2 = \"exercised_stock_options\"\n",
        "feature_3=\"total_payments\"\n",
        "poi  = \"poi\"\n",
        "features_list = [poi, feature_1, feature_2,feature_3]\n",
        "data = featureFormat(data_dict, features_list )\n",
        "poi, finance_features = targetFeatureSplit( data )\n",
        "\n",
        "\n",
        "### in the \"clustering with 3 features\" part of the mini-project,\n",
        "### you'll want to change this line to \n",
        "### for f1, f2, _ in finance_features:\n",
        "### (as it's currently written, the line below assumes 2 features)\n",
        "f3_list1=[]\n",
        "for f1, f2 ,f3 in finance_features:\n",
        "    plt.scatter( f1, f2 )\n",
        "    f3_list1.append(f3)\n",
        "plt.show()\n",
        "\n",
        "### cluster here; create predictions of the cluster labels\n",
        "### for the data and store them to a list called pred\n",
        "model=sklearn.cluster.KMeans(n_clusters=3)\n",
        "model.fit(finance_features)\n",
        "pred=model.predict(finance_features)\n",
        "### rename the \"name\" parameter when you change the number of features\n",
        "### so that the figure gets saved to a different file\n",
        "try:\n",
        "    Draw(pred, finance_features, poi, mark_poi=False, name=\"clusters.pdf\", f1_name=feature_1, f2_name=feature_2)\n",
        "except NameError:\n",
        "    print \"no predictions object named pred found, no clusters to plot\"\n"
      ],
      "execution_count": 0,
      "outputs": [
        {
          "output_type": "display_data",
          "data": {
            "image/png": "[encoded data removed]",
            "text/plain": [
              "<Figure size 432x288 with 1 Axes>"
            ]
          },
          "metadata": {
            "tags": []
          }
        },
        {
          "output_type": "display_data",
          "data": {
            "image/png": "[encoded data removed]",
            "text/plain": [
              "<Figure size 432x288 with 1 Axes>"
            ]
          },
          "metadata": {
            "tags": []
          }
        }
      ]
    },
    {
      "cell_type": "code",
      "metadata": {
        "id": "7W98mhRdJAWQ",
        "colab_type": "code",
        "colab": {}
      },
      "source": [
        "import numpy as np\n"
      ],
      "execution_count": 0,
      "outputs": []
    },
    {
      "cell_type": "code",
      "metadata": {
        "id": "7dKDszvNJllm",
        "colab_type": "code",
        "outputId": "3f63c08a-e40a-4db9-f543-afeec25e5994",
        "colab": {
          "base_uri": "https://localhost:8080/",
          "height": 1000
        }
      },
      "source": [
        "finance_features"
      ],
      "execution_count": 0,
      "outputs": [
        {
          "output_type": "execute_result",
          "data": {
            "text/plain": [
              "[array([ 365788.,       0., 1061827.]),\n",
              " array([ 267102., 6680544., 5634343.]),\n",
              " array([ 170941., 4890344.,  211725.]),\n",
              " array([     0., 651850.,      0.]),\n",
              " array([ 243293., 5538001.,  288682.]),\n",
              " array([267093.,      0., 628522.]),\n",
              " array([      0.,  493489., 1848227.]),\n",
              " array([ 370448., 1104054., 4099771.]),\n",
              " array([      0., 5210569., 3131860.]),\n",
              " array([ 197091.,  880290., 1737629.]),\n",
              " array([ 130724., 2282768., 3100224.]),\n",
              " array([ 288589.,       0., 1130461.]),\n",
              " array([ 248546.,  765313., 2014835.]),\n",
              " array([ 257486.,       0., 1545059.]),\n",
              " array([      0., 2218275.,  966522.]),\n",
              " array([     0., 372205.,      0.]),\n",
              " array([ 288542.,       0., 1490344.]),\n",
              " array([ 251654., 1056320., 3202070.]),\n",
              " array([288558., 185063., 551174.]),\n",
              " array([ 63744.,      0., 762135.]),\n",
              " array([      0., 1030329.,   87410.]),\n",
              " array([ 357091., 4346544., 1798780.]),\n",
              " array([ 271442.,   81042., 3471141.]),\n",
              " array([     0.,   3285., 102500.]),\n",
              " array([ 304110., 1441898., 3038702.]),\n",
              " array([     0.,      0., 189583.]),\n",
              " array([187922.,      0., 618850.]),\n",
              " array([     0.,      0., 228656.]),\n",
              " array([ 213625., 1465734., 2047593.]),\n",
              " array([ 249201., 1635238., 1099100.]),\n",
              " array([    0., 98718.,     0.]),\n",
              " array([231330.,      0., 969068.]),\n",
              " array([  0.,   0., 475.]),\n",
              " array([ 182245.,  601438., 2692324.]),\n",
              " array([  0.,   0., 148.]),\n",
              " array([ 211788.,       0., 2081796.]),\n",
              " array([     0., 850477.,      0.]),\n",
              " array([   0.,    0., 7961.]),\n",
              " array([     0., 664375.,      0.]),\n",
              " array([ 224305.,       0., 2652612.]),\n",
              " array([ 273746.,       0., 2664228.]),\n",
              " array([  339288.,  4158995., 10425757.]),\n",
              " array([ 216582., 1624396.,  228474.]),\n",
              " array([ 210500., 2027865., 1204583.]),\n",
              " array([     0.,      0., 213071.]),\n",
              " array([ 272880.,  436515., 2146973.]),\n",
              " array([4.770000e+02, 4.046157e+06, 9.161970e+05]),\n",
              " array([     0., 371750.,  77492.]),\n",
              " array([ 269076.,  607837., 1057548.]),\n",
              " array([ 428780., 1835558., 4335388.]),\n",
              " array([ 211844., 1624396., 2003885.]),\n",
              " array([     0., 412878.,  87492.]),\n",
              " array([ 206121.,   17378., 1208649.]),\n",
              " array([174246.,      0., 704896.]),\n",
              " array([ 510364., 3282960., 4677574.]),\n",
              " array([ 365038., 1623010., 2101364.]),\n",
              " array([ 365163., 2291113., 4747979.]),\n",
              " array([ 162779., 1362375.,  999356.]),\n",
              " array([     0., 139130.,      0.]),\n",
              " array([ 236457., 2549361.,  875889.]),\n",
              " array([   0.,    0., 2151.]),\n",
              " array([1.07232100e+06, 3.43483840e+07, 1.03559793e+08]),\n",
              " array([ 261516.,       0., 1271582.]),\n",
              " array([ 329078., 1637034., 1321557.]),\n",
              " array([     0., 757301.,      0.]),\n",
              " array([184899.,      0., 807956.]),\n",
              " array([192008.,  83237., 900585.]),\n",
              " array([ 263413.,  506765., 1318763.]),\n",
              " array([ 262663.,  187500., 1297461.]),\n",
              " array([     0., 759557.,      0.]),\n",
              " array([      0., 1753766.,       0.]),\n",
              " array([ 374125.,  608750., 3859065.]),\n",
              " array([ 278601.,       0., 2669589.]),\n",
              " array([   0., 9803.,    0.]),\n",
              " array([ 199157.,  664461., 1414857.]),\n",
              " array([    0., 59539.,     0.]),\n",
              " array([  96840., 7509039.,  111529.]),\n",
              " array([  80818., 1599641.,  860136.]),\n",
              " array([ 213999.,  953136., 5501630.]),\n",
              " array([ 210692., 1451869., 2093263.]),\n",
              " array([ 222093., 4452476.,  911453.]),\n",
              " array([ 440698.,       0., 2424083.]),\n",
              " array([     0., 343434., 181755.]),\n",
              " array([ 240189.,       0., 1639297.]),\n",
              " array([  420636., 19794175.,   505050.]),\n",
              " array([ 275101.,  850010., 1086821.]),\n",
              " array([ 314288.,  117551., 1101393.]),\n",
              " array([  94941., 5266578.,  249787.]),\n",
              " array([    0.,     0., 27942.]),\n",
              " array([ 239502.,       0., 1112087.]),\n",
              " array([ 1111258., 19250000.,  8682716.]),\n",
              " array([   0.,    0., 1279.]),\n",
              " array([      0., 1426469.,       0.]),\n",
              " array([     0., 886231., 564348.]),\n",
              " array([   6615.,       0., 1146658.]),\n",
              " array([ 655037.,   28798., 1386690.]),\n",
              " array([     0.,      0., 362096.]),\n",
              " array([     0.,      0., 774401.]),\n",
              " array([ 404338., 2022048., 1747522.]),\n",
              " array([      0., 1324578.,       0.]),\n",
              " array([ 259996., 1668260., 1034395.]),\n",
              " array([ 317543., 1297049., 1934359.]),\n",
              " array([      0., 5127155.,       0.]),\n",
              " array([ 201955., 1729541., 4484442.]),\n",
              " array([ 248146.,  281073., 1576511.]),\n",
              " array([     0., 431750.,  83750.]),\n",
              " array([    0.,     0., 84992.]),\n",
              " array([    0.,     0., 49288.]),\n",
              " array([     0., 257817., 182466.]),\n",
              " array([     0., 754966.,      0.]),\n",
              " array([  76399., 4160672.,  394475.]),\n",
              " array([ 262788., 8191755., 2368151.]),\n",
              " array([       0.,  2604490., 15456290.]),\n",
              " array([261809.,      0., 477557.]),\n",
              " array([ 248017.,  825464., 1054637.]),\n",
              " array([     0., 192758.,  55097.]),\n",
              " array([229284., 400478., 812194.]),\n",
              " array([ 231946.,  636246., 1566469.]),\n",
              " array([221003.,      0., 319941.]),\n",
              " array([ 158403., 8308552.,  360300.]),\n",
              " array([       0., 30766064.,    91093.]),\n",
              " array([ 250100., 1550019., 1410464.]),\n",
              " array([ 492375., 8831913.,  550981.]),\n",
              " array([ 1060932., 10433518., 17252530.]),\n",
              " array([  261879., 15364167.,  3123383.]),\n",
              " array([239671.,      0., 827696.]),\n",
              " array([     0., 176378.,  50591.]),\n",
              " array([ 304588.,  940257., 3676340.]),\n",
              " array([ 309946.,  671737., 1587421.]),\n",
              " array([   0.,    0., 3750.]),\n",
              " array([  85274., 2165172., 1979596.]),\n",
              " array([247338., 591250., 399393.]),\n",
              " array([ 349487., 2070306., 8407016.]),\n",
              " array([ 330546., 2542813., 2355702.]),\n",
              " array([     0.,      0., 119292.]),\n",
              " array([ 415189.,       0., 1868758.]),\n",
              " array([ 265214., 3181250., 1092663.]),\n",
              " array([278601., 765920., 875760.]),\n",
              " array([ 274975.,  384728., 1272284.])]"
            ]
          },
          "metadata": {
            "tags": []
          },
          "execution_count": 17
        }
      ]
    },
    {
      "cell_type": "code",
      "metadata": {
        "id": "vXCK8DWSIc6r",
        "colab_type": "code",
        "outputId": "7465ea9f-b4bb-4fae-d5a3-fdba65ba4797",
        "colab": {
          "base_uri": "https://localhost:8080/",
          "height": 548
        }
      },
      "source": [
        "#!/usr/bin/python \n",
        "\n",
        "\"\"\" \n",
        "    Skeleton code for k-means clustering mini-project.\n",
        "\"\"\"\n",
        "\n",
        "\n",
        "\n",
        "import sklearn\n",
        "from sklearn.cluster import *\n",
        "import pickle\n",
        "import numpy\n",
        "import matplotlib.pyplot as plt\n",
        "import sys\n",
        "sys.path.append(\"/content/ud120-projects/tools\")\n",
        "from feature_format import featureFormat, targetFeatureSplit\n",
        "\n",
        "\n",
        "\n",
        "\n",
        "def Draw(pred, features, poi, mark_poi=False, name=\"image.png\", f1_name=\"feature 1\", f2_name=\"feature 2\"):\n",
        "    \"\"\" some plotting code designed to help you visualize your clusters \"\"\"\n",
        "\n",
        "    ### plot each cluster with a different color--add more colors for\n",
        "    ### drawing more than five clusters\n",
        "    colors = [\"b\", \"c\", \"k\", \"m\", \"g\"]\n",
        "    for ii, pp in enumerate(pred):\n",
        "        plt.scatter(features[ii][0], features[ii][1], color = colors[pred[ii]])\n",
        "\n",
        "    ### if you like, place red stars over points that are POIs (just for funsies)\n",
        "    if mark_poi:\n",
        "        for ii, pp in enumerate(pred):\n",
        "            if poi[ii]:\n",
        "                plt.scatter(features[ii][0], features[ii][1], color=\"r\", marker=\"*\")\n",
        "    plt.xlabel(f1_name)\n",
        "    plt.ylabel(f2_name)\n",
        "    plt.savefig(name)\n",
        "    plt.show()\n",
        "\n",
        "\n",
        "\n",
        "### load in the dict of dicts containing all the data on each person in the dataset\n",
        "data_dict = pickle.load( open(\"/content/ud120-projects/final_project/final_project_dataset.pkl\", \"r\") )\n",
        "### there's an outlier--remove it! \n",
        "data_dict.pop(\"TOTAL\", 0)\n",
        "\n",
        "\n",
        "### the input features we want to use \n",
        "### can be any key in the person-level dictionary (salary, director_fees, etc.) \n",
        "feature_1 = \"salary\"\n",
        "feature_2 = \"exercised_stock_options\"\n",
        "feature_3=\"total_payments\"\n",
        "poi  = \"poi\"\n",
        "features_list = [poi, feature_1, feature_2]\n",
        "data = featureFormat(data_dict, features_list )\n",
        "poi, finance_features = targetFeatureSplit( data )\n",
        "\n",
        "\n",
        "### in the \"clustering with 3 features\" part of the mini-project,\n",
        "### you'll want to change this line to \n",
        "### for f1, f2, _ in finance_features:\n",
        "### (as it's currently written, the line below assumes 2 features)\n",
        "\n",
        "for f1, f2  in finance_features:\n",
        "    plt.scatter( f1, f2 )\n",
        "plt.show()\n",
        "\n",
        "### cluster here; create predictions of the cluster labels\n",
        "### for the data and store them to a list called pred\n",
        "model=sklearn.cluster.KMeans(n_clusters=2)\n",
        "model.fit(finance_features)\n",
        "pred=model.predict(finance_features)\n",
        "### rename the \"name\" parameter when you change the number of features\n",
        "### so that the figure gets saved to a different file\n",
        "try:\n",
        "    Draw(pred, finance_features, poi, mark_poi=False, name=\"clusters.pdf\", f1_name=feature_1, f2_name=feature_2)\n",
        "except NameError:\n",
        "    print \"no predictions object named pred found, no clusters to plot\"\n"
      ],
      "execution_count": 0,
      "outputs": [
        {
          "output_type": "display_data",
          "data": {
            "image/png": "[encoded data removed]",
            "text/plain": [
              "<Figure size 432x288 with 1 Axes>"
            ]
          },
          "metadata": {
            "tags": []
          }
        },
        {
          "output_type": "display_data",
          "data": {
            "image/png": "[encoded data removed]",
            "text/plain": [
              "<Figure size 432x288 with 1 Axes>"
            ]
          },
          "metadata": {
            "tags": []
          }
        }
      ]
    }
  ]
}