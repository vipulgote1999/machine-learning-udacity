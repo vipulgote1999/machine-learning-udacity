{
  "nbformat": 4,
  "nbformat_minor": 0,
  "metadata": {
    "colab": {
      "name": "mail_analytics_using_naive_bayes.ipynb",
      "provenance": [],
      "collapsed_sections": [],
      "toc_visible": true,
      "include_colab_link": true
    },
    "kernelspec": {
      "name": "python2",
      "display_name": "Python 2"
    },
    "accelerator": "GPU"
  },
  "cells": [
    {
      "cell_type": "markdown",
      "metadata": {
        "id": "view-in-github",
        "colab_type": "text"
      },
      "source": [
        "<a href=\"https://colab.research.google.com/github/vipulgote1999/machine-learning-udacity/blob/master/mail_analytics_using_naive_bayes.ipynb\" target=\"_parent\"><img src=\"https://colab.research.google.com/assets/colab-badge.svg\" alt=\"Open In Colab\"/></a>"
      ]
    },
    {
      "cell_type": "code",
      "metadata": {
        "id": "zXRgOgvf8IIv",
        "colab_type": "code",
        "outputId": "63c4e0ae-d29c-4a17-f3e8-ab5358106cd9",
        "colab": {
          "base_uri": "https://localhost:8080/",
          "height": 232
        }
      },
      "source": [
        "!pip install scikit-learn==0.18.1"
      ],
      "execution_count": 0,
      "outputs": [
        {
          "output_type": "stream",
          "text": [
            "Collecting scikit-learn==0.18.1\n",
            "\u001b[?25l  Downloading https://files.pythonhosted.org/packages/ca/0f/bfadd2f0ef390c6d6d88624823dfa63479b4e68820de94a960d1a14c585d/scikit_learn-0.18.1-cp27-cp27mu-manylinux1_x86_64.whl (11.6MB)\n",
            "\u001b[K     |████████████████████████████████| 11.7MB 93kB/s \n",
            "\u001b[31mERROR: fancyimpute 0.4.3 has requirement scikit-learn>=0.19.1, but you'll have scikit-learn 0.18.1 which is incompatible.\u001b[0m\n",
            "\u001b[31mERROR: imbalanced-learn 0.4.3 has requirement scikit-learn>=0.20, but you'll have scikit-learn 0.18.1 which is incompatible.\u001b[0m\n",
            "\u001b[31mERROR: yellowbrick 0.9.1 has requirement scikit-learn>=0.20, but you'll have scikit-learn 0.18.1 which is incompatible.\u001b[0m\n",
            "\u001b[?25hInstalling collected packages: scikit-learn\n",
            "  Found existing installation: scikit-learn 0.20.3\n",
            "    Uninstalling scikit-learn-0.20.3:\n",
            "      Successfully uninstalled scikit-learn-0.20.3\n",
            "Successfully installed scikit-learn-0.18.1\n"
          ],
          "name": "stdout"
        }
      ]
    },
    {
      "cell_type": "code",
      "metadata": {
        "id": "2dkSp5J9Zz50",
        "colab_type": "code",
        "outputId": "daabf613-ca71-4995-a04b-241956bb72c8",
        "colab": {
          "base_uri": "https://localhost:8080/",
          "height": 267
        }
      },
      "source": [
        "!pip install nltk==3.2.1\n",
        "\n"
      ],
      "execution_count": 0,
      "outputs": [
        {
          "output_type": "stream",
          "text": [
            "Collecting nltk==3.2.1\n",
            "\u001b[?25l  Downloading https://files.pythonhosted.org/packages/58/85/8fa6f8c488507aab7d6234ce754bbbe61bfeb8382489785e2d764bf8f52a/nltk-3.2.1.tar.gz (1.1MB)\n",
            "\r\u001b[K     |▎                               | 10kB 13.4MB/s eta 0:00:01\r\u001b[K     |▋                               | 20kB 1.7MB/s eta 0:00:01\r\u001b[K     |▉                               | 30kB 2.5MB/s eta 0:00:01\r\u001b[K     |█▏                              | 40kB 1.7MB/s eta 0:00:01\r\u001b[K     |█▌                              | 51kB 2.1MB/s eta 0:00:01\r\u001b[K     |█▊                              | 61kB 2.5MB/s eta 0:00:01\r\u001b[K     |██                              | 71kB 2.8MB/s eta 0:00:01\r\u001b[K     |██▍                             | 81kB 3.2MB/s eta 0:00:01\r\u001b[K     |██▋                             | 92kB 3.5MB/s eta 0:00:01\r\u001b[K     |███                             | 102kB 2.8MB/s eta 0:00:01\r\u001b[K     |███▏                            | 112kB 2.8MB/s eta 0:00:01\r\u001b[K     |███▌                            | 122kB 2.8MB/s eta 0:00:01\r\u001b[K     |███▉                            | 133kB 2.8MB/s eta 0:00:01\r\u001b[K     |████                            | 143kB 2.8MB/s eta 0:00:01\r\u001b[K     |████▍                           | 153kB 2.8MB/s eta 0:00:01\r\u001b[K     |████▊                           | 163kB 2.8MB/s eta 0:00:01\r\u001b[K     |█████                           | 174kB 2.8MB/s eta 0:00:01\r\u001b[K     |█████▎                          | 184kB 2.8MB/s eta 0:00:01\r\u001b[K     |█████▌                          | 194kB 2.8MB/s eta 0:00:01\r\u001b[K     |█████▉                          | 204kB 2.8MB/s eta 0:00:01\r\u001b[K     |██████▏                         | 215kB 2.8MB/s eta 0:00:01\r\u001b[K     |██████▍                         | 225kB 2.8MB/s eta 0:00:01\r\u001b[K     |██████▊                         | 235kB 2.8MB/s eta 0:00:01\r\u001b[K     |███████                         | 245kB 2.8MB/s eta 0:00:01\r\u001b[K     |███████▎                        | 256kB 2.8MB/s eta 0:00:01\r\u001b[K     |███████▋                        | 266kB 2.8MB/s eta 0:00:01\r\u001b[K     |███████▉                        | 276kB 2.8MB/s eta 0:00:01\r\u001b[K     |████████▏                       | 286kB 2.8MB/s eta 0:00:01\r\u001b[K     |████████▌                       | 296kB 2.8MB/s eta 0:00:01\r\u001b[K     |████████▊                       | 307kB 2.8MB/s eta 0:00:01\r\u001b[K     |█████████                       | 317kB 2.8MB/s eta 0:00:01\r\u001b[K     |█████████▍                      | 327kB 2.8MB/s eta 0:00:01\r\u001b[K     |█████████▋                      | 337kB 2.8MB/s eta 0:00:01\r\u001b[K     |██████████                      | 348kB 2.8MB/s eta 0:00:01\r\u001b[K     |██████████▎                     | 358kB 2.8MB/s eta 0:00:01\r\u001b[K     |██████████▌                     | 368kB 2.8MB/s eta 0:00:01\r\u001b[K     |██████████▉                     | 378kB 2.8MB/s eta 0:00:01\r\u001b[K     |███████████                     | 389kB 2.8MB/s eta 0:00:01\r\u001b[K     |███████████▍                    | 399kB 2.8MB/s eta 0:00:01\r\u001b[K     |███████████▊                    | 409kB 2.8MB/s eta 0:00:01\r\u001b[K     |████████████                    | 419kB 2.8MB/s eta 0:00:01\r\u001b[K     |████████████▎                   | 430kB 2.8MB/s eta 0:00:01\r\u001b[K     |████████████▋                   | 440kB 2.8MB/s eta 0:00:01\r\u001b[K     |████████████▉                   | 450kB 2.8MB/s eta 0:00:01\r\u001b[K     |█████████████▏                  | 460kB 2.8MB/s eta 0:00:01\r\u001b[K     |█████████████▍                  | 471kB 2.8MB/s eta 0:00:01\r\u001b[K     |█████████████▊                  | 481kB 2.8MB/s eta 0:00:01\r\u001b[K     |██████████████                  | 491kB 2.8MB/s eta 0:00:01\r\u001b[K     |██████████████▎                 | 501kB 2.8MB/s eta 0:00:01\r\u001b[K     |██████████████▋                 | 512kB 2.8MB/s eta 0:00:01\r\u001b[K     |███████████████                 | 522kB 2.8MB/s eta 0:00:01\r\u001b[K     |███████████████▏                | 532kB 2.8MB/s eta 0:00:01\r\u001b[K     |███████████████▌                | 542kB 2.8MB/s eta 0:00:01\r\u001b[K     |███████████████▊                | 552kB 2.8MB/s eta 0:00:01\r\u001b[K     |████████████████                | 563kB 2.8MB/s eta 0:00:01\r\u001b[K     |████████████████▍               | 573kB 2.8MB/s eta 0:00:01\r\u001b[K     |████████████████▋               | 583kB 2.8MB/s eta 0:00:01\r\u001b[K     |█████████████████               | 593kB 2.8MB/s eta 0:00:01\r\u001b[K     |█████████████████▎              | 604kB 2.8MB/s eta 0:00:01\r\u001b[K     |█████████████████▌              | 614kB 2.8MB/s eta 0:00:01\r\u001b[K     |█████████████████▉              | 624kB 2.8MB/s eta 0:00:01\r\u001b[K     |██████████████████▏             | 634kB 2.8MB/s eta 0:00:01\r\u001b[K     |██████████████████▍             | 645kB 2.8MB/s eta 0:00:01\r\u001b[K     |██████████████████▊             | 655kB 2.8MB/s eta 0:00:01\r\u001b[K     |███████████████████             | 665kB 2.8MB/s eta 0:00:01\r\u001b[K     |███████████████████▎            | 675kB 2.8MB/s eta 0:00:01\r\u001b[K     |███████████████████▋            | 686kB 2.8MB/s eta 0:00:01\r\u001b[K     |███████████████████▉            | 696kB 2.8MB/s eta 0:00:01\r\u001b[K     |████████████████████▏           | 706kB 2.8MB/s eta 0:00:01\r\u001b[K     |████████████████████▌           | 716kB 2.8MB/s eta 0:00:01\r\u001b[K     |████████████████████▊           | 727kB 2.8MB/s eta 0:00:01\r\u001b[K     |█████████████████████           | 737kB 2.8MB/s eta 0:00:01\r\u001b[K     |█████████████████████▎          | 747kB 2.8MB/s eta 0:00:01\r\u001b[K     |█████████████████████▋          | 757kB 2.8MB/s eta 0:00:01\r\u001b[K     |██████████████████████          | 768kB 2.8MB/s eta 0:00:01\r\u001b[K     |██████████████████████▏         | 778kB 2.8MB/s eta 0:00:01\r\u001b[K     |██████████████████████▌         | 788kB 2.8MB/s eta 0:00:01\r\u001b[K     |██████████████████████▉         | 798kB 2.8MB/s eta 0:00:01\r\u001b[K     |███████████████████████         | 808kB 2.8MB/s eta 0:00:01\r\u001b[K     |███████████████████████▍        | 819kB 2.8MB/s eta 0:00:01\r\u001b[K     |███████████████████████▋        | 829kB 2.8MB/s eta 0:00:01\r\u001b[K     |████████████████████████        | 839kB 2.8MB/s eta 0:00:01\r\u001b[K     |████████████████████████▎       | 849kB 2.8MB/s eta 0:00:01\r\u001b[K     |████████████████████████▌       | 860kB 2.8MB/s eta 0:00:01\r\u001b[K     |████████████████████████▉       | 870kB 2.8MB/s eta 0:00:01\r\u001b[K     |█████████████████████████▏      | 880kB 2.8MB/s eta 0:00:01\r\u001b[K     |█████████████████████████▍      | 890kB 2.8MB/s eta 0:00:01\r\u001b[K     |█████████████████████████▊      | 901kB 2.8MB/s eta 0:00:01\r\u001b[K     |██████████████████████████      | 911kB 2.8MB/s eta 0:00:01\r\u001b[K     |██████████████████████████▎     | 921kB 2.8MB/s eta 0:00:01\r\u001b[K     |██████████████████████████▋     | 931kB 2.8MB/s eta 0:00:01\r\u001b[K     |██████████████████████████▉     | 942kB 2.8MB/s eta 0:00:01\r\u001b[K     |███████████████████████████▏    | 952kB 2.8MB/s eta 0:00:01\r\u001b[K     |███████████████████████████▌    | 962kB 2.8MB/s eta 0:00:01\r\u001b[K     |███████████████████████████▊    | 972kB 2.8MB/s eta 0:00:01\r\u001b[K     |████████████████████████████    | 983kB 2.8MB/s eta 0:00:01\r\u001b[K     |████████████████████████████▍   | 993kB 2.8MB/s eta 0:00:01\r\u001b[K     |████████████████████████████▋   | 1.0MB 2.8MB/s eta 0:00:01\r\u001b[K     |█████████████████████████████   | 1.0MB 2.8MB/s eta 0:00:01\r\u001b[K     |█████████████████████████████▏  | 1.0MB 2.8MB/s eta 0:00:01\r\u001b[K     |█████████████████████████████▌  | 1.0MB 2.8MB/s eta 0:00:01\r\u001b[K     |█████████████████████████████▉  | 1.0MB 2.8MB/s eta 0:00:01\r\u001b[K     |██████████████████████████████  | 1.1MB 2.8MB/s eta 0:00:01\r\u001b[K     |██████████████████████████████▍ | 1.1MB 2.8MB/s eta 0:00:01\r\u001b[K     |██████████████████████████████▊ | 1.1MB 2.8MB/s eta 0:00:01\r\u001b[K     |███████████████████████████████ | 1.1MB 2.8MB/s eta 0:00:01\r\u001b[K     |███████████████████████████████▎| 1.1MB 2.8MB/s eta 0:00:01\r\u001b[K     |███████████████████████████████▌| 1.1MB 2.8MB/s eta 0:00:01\r\u001b[K     |███████████████████████████████▉| 1.1MB 2.8MB/s eta 0:00:01\r\u001b[K     |████████████████████████████████| 1.1MB 2.8MB/s \n",
            "\u001b[?25hBuilding wheels for collected packages: nltk\n",
            "  Building wheel for nltk (setup.py) ... \u001b[?25l\u001b[?25hdone\n",
            "  Created wheel for nltk: filename=nltk-3.2.1-cp27-none-any.whl size=1316641 sha256=ac85f1fc8e259ef090595407336e2ec5b663af7c18f562fa3018087c65f2a999\n",
            "  Stored in directory: /root/.cache/pip/wheels/15/09/54/c7baf815a67c5f19ec23752715885b1ce25c9617e8a1c25da3\n",
            "Successfully built nltk\n",
            "Installing collected packages: nltk\n",
            "  Found existing installation: nltk 3.2.5\n",
            "    Uninstalling nltk-3.2.5:\n",
            "      Successfully uninstalled nltk-3.2.5\n",
            "Successfully installed nltk-3.2.1\n"
          ],
          "name": "stdout"
        }
      ]
    },
    {
      "cell_type": "markdown",
      "metadata": {
        "id": "QKDlE9sLXgFp",
        "colab_type": "text"
      },
      "source": [
        "## **clone git lib**"
      ]
    },
    {
      "cell_type": "code",
      "metadata": {
        "id": "ENaGdWhzWEBA",
        "colab_type": "code",
        "outputId": "2efee206-2ff8-49df-846c-2d475fb1c8d4",
        "colab": {
          "base_uri": "https://localhost:8080/",
          "height": 105
        }
      },
      "source": [
        "!git clone https://github.com/udacity/ud120-projects.git"
      ],
      "execution_count": 0,
      "outputs": [
        {
          "output_type": "stream",
          "text": [
            "Cloning into 'ud120-projects'...\n",
            "remote: Enumerating objects: 5046, done.\u001b[K\n",
            "remote: Total 5046 (delta 0), reused 0 (delta 0), pack-reused 5046\u001b[K\n",
            "Receiving objects: 100% (5046/5046), 19.64 MiB | 7.69 MiB/s, done.\n",
            "Resolving deltas: 100% (4372/4372), done.\n"
          ],
          "name": "stdout"
        }
      ]
    },
    {
      "cell_type": "code",
      "metadata": {
        "id": "vnsCgTnr9XnK",
        "colab_type": "code",
        "outputId": "128221a7-f191-4fdb-86ce-3d2794921ad8",
        "colab": {
          "base_uri": "https://localhost:8080/",
          "height": 34
        }
      },
      "source": [
        "import sklearn\n",
        "print(sklearn.__version__)"
      ],
      "execution_count": 0,
      "outputs": [
        {
          "output_type": "stream",
          "text": [
            "0.18.1\n"
          ],
          "name": "stdout"
        }
      ]
    },
    {
      "cell_type": "code",
      "metadata": {
        "id": "TOIWMMgiXqNr",
        "colab_type": "code",
        "outputId": "6c9384bc-963b-4199-8819-21211ef63f02",
        "colab": {
          "base_uri": "https://localhost:8080/",
          "height": 34
        }
      },
      "source": [
        "!ls ud120-projects/tools/startup.py\n"
      ],
      "execution_count": 0,
      "outputs": [
        {
          "output_type": "stream",
          "text": [
            "ud120-projects/tools/startup.py\n"
          ],
          "name": "stdout"
        }
      ]
    },
    {
      "cell_type": "code",
      "metadata": {
        "id": "UZaedwoQ8ISM",
        "colab_type": "code",
        "colab": {}
      },
      "source": [
        "#!pip install numpy==1.11.2"
      ],
      "execution_count": 0,
      "outputs": []
    },
    {
      "cell_type": "code",
      "metadata": {
        "id": "cAXJYnUU8H_H",
        "colab_type": "code",
        "colab": {}
      },
      "source": [
        "#!pip install scipy==0.18.1\n"
      ],
      "execution_count": 0,
      "outputs": []
    },
    {
      "cell_type": "code",
      "metadata": {
        "id": "2FdnR7SlZVBP",
        "colab_type": "code",
        "outputId": "56cdf66f-ff1a-413e-9c6b-bb677770c74f",
        "colab": {
          "base_uri": "https://localhost:8080/",
          "height": 16
        }
      },
      "source": [
        "!python /content/ud120-projects/tools/startup.py"
      ],
      "execution_count": 0,
      "outputs": [
        {
          "output_type": "stream",
          "text": [
            "\n",
            "checking for nltk\n",
            "checking for numpy\n",
            "checking for scipy\n",
            "checking for sklearn\n",
            "\n",
            "downloading the Enron dataset (this may take a while)\n",
            "to check on progress, you can cd up one level, then execute <ls -lthr>\n",
            "Enron dataset should be last item on the list, along with its current size\n",
            "download will complete at about 423 MB\n"
          ],
          "name": "stdout"
        }
      ]
    },
    {
      "cell_type": "code",
      "metadata": {
        "id": "TmUe7R5ZONVS",
        "colab_type": "code",
        "colab": {}
      },
      "source": [
        "!python /content/ud120-projects/tools/startup.py ls -lthr"
      ],
      "execution_count": 0,
      "outputs": []
    },
    {
      "cell_type": "code",
      "metadata": {
        "id": "Nz6j9nyrkYts",
        "colab_type": "code",
        "colab": {}
      },
      "source": [
        "#!/usr/bin/python\n",
        "\n",
        "\"\"\" \n",
        "    This is the code to accompany the Lesson 1 (Naive Bayes) mini-project. \n",
        "\n",
        "    Use a Naive Bayes Classifier to identify emails by their authors\n",
        "    \n",
        "    authors and labels:\n",
        "    Sara has label 0\n",
        "    Chris has label 1\n",
        "\"\"\"\n",
        "\n",
        "import sys\n",
        "from time import time\n",
        "sys.path.append(\"content/ud120-projects/tools/email_preprocess.py\")\n",
        "from sklearn.naive_bayes import GaussianNB\n",
        "from sklearn.metrics import accuracy_score\n",
        "\n",
        "#preprocessing\n",
        "import pickle\n",
        "import cPickle\n",
        "import numpy\n",
        "\n",
        "from sklearn import cross_validation\n",
        "from sklearn.feature_extraction.text import TfidfVectorizer\n",
        "from sklearn.feature_selection import SelectPercentile, f_classif\n",
        "\n",
        "### features_train and features_test are the features for the training\n",
        "### and testing datasets, respectively\n",
        "### labels_train and labels_test are the corresponding item labels\n"
      ],
      "execution_count": 0,
      "outputs": []
    },
    {
      "cell_type": "code",
      "metadata": {
        "id": "ffpfo6R9b1O9",
        "colab_type": "code",
        "colab": {}
      },
      "source": [
        "def preprocess(words_file = \"/content/ud120-projects/tools/word_data.pkl\", authors_file=\"/content/ud120-projects/tools/email_authors.pkl\"):\n",
        "    \"\"\" \n",
        "        this function takes a pre-made list of email texts (by default word_data.pkl)\n",
        "        and the corresponding authors (by default email_authors.pkl) and performs\n",
        "        a number of preprocessing steps:\n",
        "            -- splits into training/testing sets (10% testing)\n",
        "            -- vectorizes into tfidf matrix\n",
        "            -- selects/keeps most helpful features\n",
        "\n",
        "        after this, the feaures and labels are put into numpy arrays, which play nice with sklearn functions\n",
        "\n",
        "        4 objects are returned:\n",
        "            -- training/testing features\n",
        "            -- training/testing labels\n",
        "\n",
        "    \"\"\"\n",
        "\n",
        "    ### the words (features) and authors (labels), already largely preprocessed\n",
        "    ### this preprocessing will be repeated in the text learning mini-project\n",
        "    authors_file_handler = open(authors_file, \"r\")\n",
        "    authors = pickle.load(authors_file_handler)\n",
        "    authors_file_handler.close()\n",
        "\n",
        "    words_file_handler = open(words_file, \"r\")\n",
        "    word_data = cPickle.load(words_file_handler)\n",
        "    words_file_handler.close()\n",
        "\n",
        "    ### test_size is the percentage of events assigned to the test set\n",
        "    ### (remainder go into training)\n",
        "    features_train, features_test, labels_train, labels_test = cross_validation.train_test_split(word_data, authors, test_size=0.1, random_state=42)\n",
        "\n",
        "\n",
        "\n",
        "    ### text vectorization--go from strings to lists of numbers\n",
        "    vectorizer = TfidfVectorizer(sublinear_tf=True, max_df=0.5,\n",
        "                                 stop_words='english')\n",
        "    features_train_transformed = vectorizer.fit_transform(features_train)\n",
        "    features_test_transformed  = vectorizer.transform(features_test)\n",
        "\n",
        "\n",
        "\n",
        "    ### feature selection, because text is super high dimensional and \n",
        "    ### can be really computationally chewy as a result\n",
        "    selector = SelectPercentile(f_classif, percentile=10)\n",
        "    selector.fit(features_train_transformed, labels_train)\n",
        "    features_train_transformed = selector.transform(features_train_transformed).toarray()\n",
        "    features_test_transformed  = selector.transform(features_test_transformed).toarray()\n",
        "\n",
        "    ### info on the data\n",
        "    print \"no. of Chris training emails:\", sum(labels_train)\n",
        "    print \"no. of Sara training emails:\", len(labels_train)-sum(labels_train)\n",
        "    \n",
        "    return features_train_transformed, features_test_transformed, labels_train, labels_test"
      ],
      "execution_count": 0,
      "outputs": []
    },
    {
      "cell_type": "code",
      "metadata": {
        "id": "2s9E7hB7b93R",
        "colab_type": "code",
        "colab": {}
      },
      "source": [
        "#########################################################\n",
        "### your code goes here ###\n",
        "\n",
        "features_train, features_test, labels_train, labels_test = preprocess()\n",
        "#print(labels_train)\n",
        "model=GaussianNB()\n",
        "t0 = time()\n",
        "model.fit(features_train,labels_train)\n",
        "print \"training time:\", round(time()-t0, 3), \"s\"\n",
        "pred=model.predict(features_test)\n",
        "accuracy = accuracy_score(labels_test,pred)\n",
        "print(accuracy)\n",
        "#########################################################\n"
      ],
      "execution_count": 0,
      "outputs": []
    }
  ]
}