{
  "nbformat": 4,
  "nbformat_minor": 0,
  "metadata": {
    "colab": {
      "name": "choose_your_own_algo.ipynb",
      "provenance": [],
      "collapsed_sections": [],
      "toc_visible": true,
      "include_colab_link": true
    },
    "kernelspec": {
      "name": "python2",
      "display_name": "Python 2"
    },
    "accelerator": "GPU"
  },
  "cells": [
    {
      "cell_type": "markdown",
      "metadata": {
        "id": "view-in-github",
        "colab_type": "text"
      },
      "source": [
        "<a href=\"https://colab.research.google.com/github/vipulgote1999/machine-learning-udacity/blob/master/choose_your_own_algo.ipynb\" target=\"_parent\"><img src=\"https://colab.research.google.com/assets/colab-badge.svg\" alt=\"Open In Colab\"/></a>"
      ]
    },
    {
      "cell_type": "code",
      "metadata": {
        "id": "hkPtQiqHvL3e",
        "colab_type": "code",
        "outputId": "855251ae-6fd5-4210-d44f-70496d46ea23",
        "colab": {
          "base_uri": "https://localhost:8080/",
          "height": 224
        }
      },
      "source": [
        "!pip install scikit-learn==0.18"
      ],
      "execution_count": 0,
      "outputs": [
        {
          "output_type": "stream",
          "text": [
            "Collecting scikit-learn==0.18\n",
            "\u001b[?25l  Downloading https://files.pythonhosted.org/packages/9a/51/4b2c24523ca21e9f3efadff99096067f1fdb20dd0b2a4582d68e63612a59/scikit_learn-0.18-cp27-cp27mu-manylinux1_x86_64.whl (11.4MB)\n",
            "\u001b[K     |████████████████████████████████| 11.4MB 2.1MB/s \n",
            "\u001b[31mERROR: fancyimpute 0.4.3 has requirement scikit-learn>=0.19.1, but you'll have scikit-learn 0.18 which is incompatible.\u001b[0m\n",
            "\u001b[31mERROR: imbalanced-learn 0.4.3 has requirement scikit-learn>=0.20, but you'll have scikit-learn 0.18 which is incompatible.\u001b[0m\n",
            "\u001b[31mERROR: yellowbrick 0.9.1 has requirement scikit-learn>=0.20, but you'll have scikit-learn 0.18 which is incompatible.\u001b[0m\n",
            "\u001b[?25hInstalling collected packages: scikit-learn\n",
            "  Found existing installation: scikit-learn 0.20.3\n",
            "    Uninstalling scikit-learn-0.20.3:\n",
            "      Successfully uninstalled scikit-learn-0.20.3\n",
            "Successfully installed scikit-learn-0.18\n"
          ],
          "name": "stdout"
        }
      ]
    },
    {
      "cell_type": "code",
      "metadata": {
        "id": "lAk9l3-avpCb",
        "colab_type": "code",
        "outputId": "a06c3984-f0e1-4590-c56e-b414d78ff51c",
        "colab": {
          "base_uri": "https://localhost:8080/",
          "height": 632
        }
      },
      "source": [
        "!pip install numpy==1.11.1"
      ],
      "execution_count": 0,
      "outputs": [
        {
          "output_type": "stream",
          "text": [
            "Collecting numpy==1.11.1\n",
            "\u001b[?25l  Downloading https://files.pythonhosted.org/packages/18/eb/707897ab7c8ad15d0f3c53e971ed8dfb64897ece8d19c64c388f44895572/numpy-1.11.1-cp27-cp27mu-manylinux1_x86_64.whl (15.3MB)\n",
            "\u001b[K     |████████████████████████████████| 15.3MB 2.5MB/s \n",
            "\u001b[31mERROR: cvxpy 1.0.15 has requirement numpy>=1.14, but you'll have numpy 1.11.1 which is incompatible.\u001b[0m\n",
            "\u001b[31mERROR: pyarrow 0.14.0 has requirement numpy>=1.14, but you'll have numpy 1.11.1 which is incompatible.\u001b[0m\n",
            "\u001b[31mERROR: imbalanced-learn 0.4.3 has requirement scikit-learn>=0.20, but you'll have scikit-learn 0.18 which is incompatible.\u001b[0m\n",
            "\u001b[31mERROR: albumentations 0.1.12 has requirement imgaug<0.2.7,>=0.2.5, but you'll have imgaug 0.2.9 which is incompatible.\u001b[0m\n",
            "\u001b[31mERROR: tensorflow 1.14.0 has requirement numpy<2.0,>=1.14.5, but you'll have numpy 1.11.1 which is incompatible.\u001b[0m\n",
            "\u001b[31mERROR: autograd 1.2 has requirement numpy>=1.12, but you'll have numpy 1.11.1 which is incompatible.\u001b[0m\n",
            "\u001b[31mERROR: tensorflow-hub 0.5.0 has requirement numpy>=1.12.0, but you'll have numpy 1.11.1 which is incompatible.\u001b[0m\n",
            "\u001b[31mERROR: imgaug 0.2.9 has requirement numpy>=1.15.0, but you'll have numpy 1.11.1 which is incompatible.\u001b[0m\n",
            "\u001b[31mERROR: pandas 0.24.2 has requirement numpy>=1.12.0, but you'll have numpy 1.11.1 which is incompatible.\u001b[0m\n",
            "\u001b[31mERROR: xarray 0.11.3 has requirement numpy>=1.12, but you'll have numpy 1.11.1 which is incompatible.\u001b[0m\n",
            "\u001b[31mERROR: fastai 0.7.0 has requirement torch<0.4, but you'll have torch 1.1.0 which is incompatible.\u001b[0m\n",
            "\u001b[31mERROR: pymc3 3.6 has requirement numpy>=1.13.0, but you'll have numpy 1.11.1 which is incompatible.\u001b[0m\n",
            "\u001b[31mERROR: tensorboard 1.14.0 has requirement numpy>=1.12.0, but you'll have numpy 1.11.1 which is incompatible.\u001b[0m\n",
            "\u001b[31mERROR: tensorflow-probability 0.7.0 has requirement numpy>=1.13.3, but you'll have numpy 1.11.1 which is incompatible.\u001b[0m\n",
            "\u001b[31mERROR: umap-learn 0.3.9 has requirement numpy>=1.13, but you'll have numpy 1.11.1 which is incompatible.\u001b[0m\n",
            "\u001b[31mERROR: featuretools 0.4.1 has requirement numpy>=1.13.3, but you'll have numpy 1.11.1 which is incompatible.\u001b[0m\n",
            "\u001b[31mERROR: fancyimpute 0.4.3 has requirement scikit-learn>=0.19.1, but you'll have scikit-learn 0.18 which is incompatible.\u001b[0m\n",
            "\u001b[31mERROR: spacy 2.1.6 has requirement numpy>=1.15.0, but you'll have numpy 1.11.1 which is incompatible.\u001b[0m\n",
            "\u001b[31mERROR: yellowbrick 0.9.1 has requirement numpy>=1.13.0, but you'll have numpy 1.11.1 which is incompatible.\u001b[0m\n",
            "\u001b[31mERROR: yellowbrick 0.9.1 has requirement scikit-learn>=0.20, but you'll have scikit-learn 0.18 which is incompatible.\u001b[0m\n",
            "\u001b[31mERROR: gensim 3.6.0 has requirement numpy>=1.11.3, but you'll have numpy 1.11.1 which is incompatible.\u001b[0m\n",
            "\u001b[31mERROR: blis 0.2.4 has requirement numpy>=1.15.0, but you'll have numpy 1.11.1 which is incompatible.\u001b[0m\n",
            "\u001b[?25hInstalling collected packages: numpy\n",
            "  Found existing installation: numpy 1.16.4\n",
            "    Uninstalling numpy-1.16.4:\n",
            "      Successfully uninstalled numpy-1.16.4\n",
            "Successfully installed numpy-1.11.1\n"
          ],
          "name": "stdout"
        },
        {
          "output_type": "display_data",
          "data": {
            "application/vnd.colab-display-data+json": {
              "pip_warning": {
                "packages": [
                  "numpy"
                ]
              }
            }
          },
          "metadata": {
            "tags": []
          }
        }
      ]
    },
    {
      "cell_type": "code",
      "metadata": {
        "id": "rAMb-kw4x9ZE",
        "colab_type": "code",
        "colab": {}
      },
      "source": [
        "#!/usr/bin/python\n",
        "import random\n",
        "\n",
        "\n",
        "def makeTerrainData(n_points=1000):\n",
        "###############################################################################\n",
        "### make the toy dataset\n",
        "    random.seed(42)\n",
        "    grade = [random.random() for ii in range(0,n_points)]\n",
        "    bumpy = [random.random() for ii in range(0,n_points)]\n",
        "    error = [random.random() for ii in range(0,n_points)]\n",
        "    y = [round(grade[ii]*bumpy[ii]+0.3+0.1*error[ii]) for ii in range(0,n_points)]\n",
        "    for ii in range(0, len(y)):\n",
        "        if grade[ii]>0.8 or bumpy[ii]>0.8:\n",
        "            y[ii] = 1.0\n",
        "\n",
        "### split into train/test sets\n",
        "    X = [[gg, ss] for gg, ss in zip(grade, bumpy)]\n",
        "    split = int(0.75*n_points)\n",
        "    X_train = X[0:split]\n",
        "    X_test  = X[split:]\n",
        "    y_train = y[0:split]\n",
        "    y_test  = y[split:]\n",
        "\n",
        "    grade_sig = [X_train[ii][0] for ii in range(0, len(X_train)) if y_train[ii]==0]\n",
        "    bumpy_sig = [X_train[ii][1] for ii in range(0, len(X_train)) if y_train[ii]==0]\n",
        "    grade_bkg = [X_train[ii][0] for ii in range(0, len(X_train)) if y_train[ii]==1]\n",
        "    bumpy_bkg = [X_train[ii][1] for ii in range(0, len(X_train)) if y_train[ii]==1]\n",
        "\n",
        "    training_data = {\"fast\":{\"grade\":grade_sig, \"bumpiness\":bumpy_sig}\n",
        "            , \"slow\":{\"grade\":grade_bkg, \"bumpiness\":bumpy_bkg}}\n",
        "\n",
        "\n",
        "    grade_sig = [X_test[ii][0] for ii in range(0, len(X_test)) if y_test[ii]==0]\n",
        "    bumpy_sig = [X_test[ii][1] for ii in range(0, len(X_test)) if y_test[ii]==0]\n",
        "    grade_bkg = [X_test[ii][0] for ii in range(0, len(X_test)) if y_test[ii]==1]\n",
        "    bumpy_bkg = [X_test[ii][1] for ii in range(0, len(X_test)) if y_test[ii]==1]\n",
        "\n",
        "    test_data = {\"fast\":{\"grade\":grade_sig, \"bumpiness\":bumpy_sig}\n",
        "            , \"slow\":{\"grade\":grade_bkg, \"bumpiness\":bumpy_bkg}}\n",
        "\n",
        "    return X_train, y_train, X_test, y_test\n",
        "\n"
      ],
      "execution_count": 0,
      "outputs": []
    },
    {
      "cell_type": "code",
      "metadata": {
        "id": "zCIg3J3iyF-H",
        "colab_type": "code",
        "colab": {}
      },
      "source": [
        "#!/usr/bin/python\n",
        "\n",
        "import numpy as np\n",
        "import matplotlib.pyplot as plt\n",
        "import pylab as pl\n",
        "\n",
        "def prettyPicture(clf, X_test, y_test):\n",
        "    x_min = 0.0; x_max = 1.0\n",
        "    y_min = 0.0; y_max = 1.0\n",
        "    \n",
        "    # Plot the decision boundary. For that, we will assign a color to each\n",
        "    # point in the mesh [x_min, m_max]x[y_min, y_max].\n",
        "    h = .01  # step size in the mesh\n",
        "    xx, yy = np.meshgrid(np.arange(x_min, x_max, h), np.arange(y_min, y_max, h))\n",
        "    Z = clf.predict(np.c_[xx.ravel(), yy.ravel()])\n",
        "\n",
        "    # Put the result into a color plot\n",
        "    Z = Z.reshape(xx.shape)\n",
        "    plt.xlim(xx.min(), xx.max())\n",
        "    plt.ylim(yy.min(), yy.max())\n",
        "\n",
        "    plt.pcolormesh(xx, yy, Z, cmap=pl.cm.seismic)\n",
        "\n",
        "    # Plot also the test points\n",
        "    grade_sig = [X_test[ii][0] for ii in range(0, len(X_test)) if y_test[ii]==0]\n",
        "    bumpy_sig = [X_test[ii][1] for ii in range(0, len(X_test)) if y_test[ii]==0]\n",
        "    grade_bkg = [X_test[ii][0] for ii in range(0, len(X_test)) if y_test[ii]==1]\n",
        "    bumpy_bkg = [X_test[ii][1] for ii in range(0, len(X_test)) if y_test[ii]==1]\n",
        "\n",
        "    plt.scatter(grade_sig, bumpy_sig, color = \"b\", label=\"fast\")\n",
        "    plt.scatter(grade_bkg, bumpy_bkg, color = \"r\", label=\"slow\")\n",
        "    plt.legend()\n",
        "    plt.xlabel(\"bumpiness\")\n",
        "    plt.ylabel(\"grade\")\n",
        "\n",
        "    plt.savefig(\"test.png\")\n",
        "\n",
        "import base64\n",
        "import json\n",
        "import subprocess\n",
        "\n",
        "def output_image(name, format, bytes):\n",
        "    image_start = \"BEGIN_IMAGE_f9825uweof8jw9fj4r8\"\n",
        "    image_end = \"END_IMAGE_0238jfw08fjsiufhw8frs\"\n",
        "    data = {}\n",
        "    data['name'] = name\n",
        "    data['format'] = format\n",
        "    data['bytes'] = base64.encodestring(bytes)\n",
        "    print image_start+json.dumps(data)+image_end\n",
        "                                    \n"
      ],
      "execution_count": 0,
      "outputs": []
    },
    {
      "cell_type": "markdown",
      "metadata": {
        "id": "7_1Yjn-ZdsE4",
        "colab_type": "text"
      },
      "source": [
        "# **using k nearest neighbors**"
      ]
    },
    {
      "cell_type": "code",
      "metadata": {
        "id": "6i-UjrWEvCFE",
        "colab_type": "code",
        "outputId": "f87ce456-2ece-43c2-fc7d-97692b62ff1c",
        "colab": {
          "base_uri": "https://localhost:8080/",
          "height": 283
        }
      },
      "source": [
        "#!/usr/bin/python\n",
        "\n",
        "import matplotlib.pyplot as plt\n",
        "#from prep_terrain_data import makeTerrainData\n",
        "#from class_vis import prettyPicture\n",
        "\n",
        "features_train, labels_train, features_test, labels_test = makeTerrainData()\n",
        "\n",
        "\n",
        "### the training data (features_train, labels_train) have both \"fast\" and \"slow\"\n",
        "### points mixed together--separate them so we can give them different colors\n",
        "### in the scatterplot and identify them visually\n",
        "grade_fast = [features_train[ii][0] for ii in range(0, len(features_train)) if labels_train[ii]==0]\n",
        "bumpy_fast = [features_train[ii][1] for ii in range(0, len(features_train)) if labels_train[ii]==0]\n",
        "grade_slow = [features_train[ii][0] for ii in range(0, len(features_train)) if labels_train[ii]==1]\n",
        "bumpy_slow = [features_train[ii][1] for ii in range(0, len(features_train)) if labels_train[ii]==1]\n",
        "\n",
        "\n",
        "#### initial visualization\n",
        "plt.xlim(0.0, 1.0)\n",
        "plt.ylim(0.0, 1.0)\n",
        "plt.scatter(bumpy_fast, grade_fast, color = \"b\", label=\"fast\")\n",
        "plt.scatter(grade_slow, bumpy_slow, color = \"r\", label=\"slow\")\n",
        "plt.legend()\n",
        "plt.xlabel(\"bumpiness\")\n",
        "plt.ylabel(\"grade\")\n",
        "plt.show()\n",
        "################################################################################\n",
        "\n",
        "\n",
        "### your code here!  name your classifier object clf if you want the \n",
        "### visualization code (prettyPicture) to show you the decision boundary\n",
        "\n",
        "\n",
        "\n",
        "\n",
        "\n",
        "\n",
        "\n",
        "\n",
        "try:\n",
        "    prettyPicture(clf, features_test, labels_test)\n",
        "except NameError:\n",
        "    pass\n"
      ],
      "execution_count": 0,
      "outputs": [
        {
          "output_type": "display_data",
          "data": {
            "image/png": "[encoded data removed]",
            "text/plain": [
              "<Figure size 432x288 with 1 Axes>"
            ]
          },
          "metadata": {
            "tags": []
          }
        }
      ]
    },
    {
      "cell_type": "code",
      "metadata": {
        "id": "m0UdgbnQyY_A",
        "colab_type": "code",
        "colab": {}
      },
      "source": [
        "from sklearn.neighbors import KNeighborsClassifier\n",
        "from sklearn.metrics import accuracy_score\n",
        "\n",
        "clf=KNeighborsClassifier(n_neighbors=1)\n",
        "clf.fit(features_train, labels_train)\n",
        "pred=clf.predict(features_test)\n",
        "\n"
      ],
      "execution_count": 0,
      "outputs": []
    },
    {
      "cell_type": "code",
      "metadata": {
        "id": "zmrZOPHj6XfQ",
        "colab_type": "code",
        "outputId": "f0b7f5c3-18f6-425a-80c8-f15b76b48f12",
        "colab": {
          "base_uri": "https://localhost:8080/",
          "height": 34
        }
      },
      "source": [
        "accuracy=accuracy_score(pred,labels_test)\n",
        "print(accuracy)"
      ],
      "execution_count": 0,
      "outputs": [
        {
          "output_type": "stream",
          "text": [
            "0.94\n"
          ],
          "name": "stdout"
        }
      ]
    },
    {
      "cell_type": "code",
      "metadata": {
        "id": "FuNqSK7nawbr",
        "colab_type": "code",
        "outputId": "1c7244bd-66f3-490d-ea7a-a4dafcd50af6",
        "colab": {
          "base_uri": "https://localhost:8080/",
          "height": 283
        }
      },
      "source": [
        "try:\n",
        "    prettyPicture(clf, features_test, labels_test)\n",
        "except NameError:\n",
        "    pass"
      ],
      "execution_count": 0,
      "outputs": [
        {
          "output_type": "display_data",
          "data": {
            "image/png": "[encoded data removed]",
            "text/plain": [
              "<Figure size 432x288 with 1 Axes>"
            ]
          },
          "metadata": {
            "tags": []
          }
        }
      ]
    },
    {
      "cell_type": "markdown",
      "metadata": {
        "id": "OGHozAANd54s",
        "colab_type": "text"
      },
      "source": [
        "# **using Random forest method**"
      ]
    },
    {
      "cell_type": "code",
      "metadata": {
        "id": "8_XovUhVd9yn",
        "colab_type": "code",
        "outputId": "32fa5056-82fc-4158-f038-b9c01bc7eeba",
        "colab": {
          "base_uri": "https://localhost:8080/",
          "height": 119
        }
      },
      "source": [
        "from sklearn.ensemble import RandomForestClassifier\n",
        "from sklearn.metrics import accuracy_score\n",
        "\n",
        "clf1=RandomForestClassifier(n_estimators=100,min_samples_split=0.1,random_state=5,n_jobs=-1)\n",
        "\n",
        "clf1.fit(features_train,labels_train)\n"
      ],
      "execution_count": 0,
      "outputs": [
        {
          "output_type": "execute_result",
          "data": {
            "text/plain": [
              "RandomForestClassifier(bootstrap=True, class_weight=None, criterion='gini',\n",
              "            max_depth=None, max_features='auto', max_leaf_nodes=None,\n",
              "            min_impurity_split=1e-07, min_samples_leaf=1,\n",
              "            min_samples_split=0.1, min_weight_fraction_leaf=0.0,\n",
              "            n_estimators=100, n_jobs=-1, oob_score=False, random_state=5,\n",
              "            verbose=0, warm_start=False)"
            ]
          },
          "metadata": {
            "tags": []
          },
          "execution_count": 97
        }
      ]
    },
    {
      "cell_type": "code",
      "metadata": {
        "id": "Z74s9LYiZEh7",
        "colab_type": "code",
        "outputId": "3dc221b2-c93a-46b7-8ee4-65179216800a",
        "colab": {
          "base_uri": "https://localhost:8080/",
          "height": 34
        }
      },
      "source": [
        "pred2=clf1.predict(features_test)\n",
        "acc2=accuracy_score(pred2,labels_test)\n",
        "print(acc2)"
      ],
      "execution_count": 0,
      "outputs": [
        {
          "output_type": "stream",
          "text": [
            "0.928\n"
          ],
          "name": "stdout"
        }
      ]
    },
    {
      "cell_type": "code",
      "metadata": {
        "id": "DrQyXuVTasdZ",
        "colab_type": "code",
        "outputId": "6bc6a1dc-b85a-4fd0-d1e8-d5a1da66796c",
        "colab": {
          "base_uri": "https://localhost:8080/",
          "height": 283
        }
      },
      "source": [
        "try:\n",
        "    prettyPicture(clf1, features_test, labels_test)\n",
        "except NameError:\n",
        "    pass#######acc at n_estimators=100,min_samples_split=0.1,random_state=5,n_jobs=-1"
      ],
      "execution_count": 0,
      "outputs": [
        {
          "output_type": "display_data",
          "data": {
            "image/png": "[encoded data removed]",
            "text/plain": [
              "<Figure size 432x288 with 1 Axes>"
            ]
          },
          "metadata": {
            "tags": []
          }
        }
      ]
    },
    {
      "cell_type": "code",
      "metadata": {
        "id": "R_sh5COsd6Un",
        "colab_type": "code",
        "outputId": "061c02cb-e2ef-4761-d754-e36c08dd544b",
        "colab": {
          "base_uri": "https://localhost:8080/",
          "height": 283
        }
      },
      "source": [
        "try:\n",
        "    prettyPicture(clf1, features_test, labels_test)\n",
        "except NameError:\n",
        "    pass            ####for max_leaf node=1000,n_estimators=50000 low acc than 0.928"
      ],
      "execution_count": 0,
      "outputs": [
        {
          "output_type": "display_data",
          "data": {
            "image/png": "[encoded data removed]",
            "text/plain": [
              "<Figure size 432x288 with 1 Axes>"
            ]
          },
          "metadata": {
            "tags": []
          }
        }
      ]
    },
    {
      "cell_type": "markdown",
      "metadata": {
        "id": "eygUh0vMbut4",
        "colab_type": "text"
      },
      "source": [
        "# **ada boost classifier**"
      ]
    },
    {
      "cell_type": "code",
      "metadata": {
        "id": "7ZCwmx-YbzC4",
        "colab_type": "code",
        "outputId": "2f36d227-8826-41c0-a95d-0d7ff76ae23b",
        "colab": {
          "base_uri": "https://localhost:8080/",
          "height": 51
        }
      },
      "source": [
        "from sklearn.ensemble import AdaBoostClassifier\n",
        "\n",
        "clf2 = AdaBoostClassifier(n_estimators=1000,learning_rate=1)\n",
        "\n",
        "clf2.fit(features_train,labels_train)\n",
        "\n"
      ],
      "execution_count": 0,
      "outputs": [
        {
          "output_type": "execute_result",
          "data": {
            "text/plain": [
              "AdaBoostClassifier(algorithm='SAMME.R', base_estimator=None, learning_rate=1,\n",
              "          n_estimators=100, random_state=None)"
            ]
          },
          "metadata": {
            "tags": []
          },
          "execution_count": 123
        }
      ]
    },
    {
      "cell_type": "code",
      "metadata": {
        "id": "eqywB2_EpHID",
        "colab_type": "code",
        "outputId": "22fd5a10-156c-4c09-ef3f-4fb29454abdc",
        "colab": {
          "base_uri": "https://localhost:8080/",
          "height": 34
        }
      },
      "source": [
        "pred3=clf2.predict(features_test)\n",
        "acc3=accuracy_score(pred3,labels_test)\n",
        "print(acc3)"
      ],
      "execution_count": 0,
      "outputs": [
        {
          "output_type": "stream",
          "text": [
            "0.924\n"
          ],
          "name": "stdout"
        }
      ]
    },
    {
      "cell_type": "code",
      "metadata": {
        "id": "lHezNrwbpMMJ",
        "colab_type": "code",
        "outputId": "68362570-d9cd-405f-a5fc-bb69e902a201",
        "colab": {
          "base_uri": "https://localhost:8080/",
          "height": 283
        }
      },
      "source": [
        "try:\n",
        "    prettyPicture(clf2, features_test, labels_test)\n",
        "except NameError:\n",
        "    pass            ####for max_leaf node=1000,n_estimators=50000 low acc than 0.928"
      ],
      "execution_count": 0,
      "outputs": [
        {
          "output_type": "display_data",
          "data": {
            "image/png": "[encoded data removed]",
            "text/plain": [
              "<Figure size 432x288 with 1 Axes>"
            ]
          },
          "metadata": {
            "tags": []
          }
        }
      ]
    }
  ]
}