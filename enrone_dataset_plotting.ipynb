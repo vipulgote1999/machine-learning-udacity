{
  "nbformat": 4,
  "nbformat_minor": 0,
  "metadata": {
    "colab": {
      "name": "enrone_dataset_plotting.ipynb",
      "provenance": [],
      "collapsed_sections": [],
      "include_colab_link": true
    },
    "kernelspec": {
      "name": "python2",
      "display_name": "Python 2"
    }
  },
  "cells": [
    {
      "cell_type": "markdown",
      "metadata": {
        "id": "view-in-github",
        "colab_type": "text"
      },
      "source": [
        "<a href=\"https://colab.research.google.com/github/vipulgote1999/machine-learning-udacity/blob/master/enrone_dataset_plotting.ipynb\" target=\"_parent\"><img src=\"https://colab.research.google.com/assets/colab-badge.svg\" alt=\"Open In Colab\"/></a>"
      ]
    },
    {
      "cell_type": "code",
      "metadata": {
        "id": "g3oEBGyYlR4r",
        "colab_type": "code",
        "outputId": "5ab00c20-85c3-461f-e7bd-a34735c36f63",
        "colab": {
          "base_uri": "https://localhost:8080/",
          "height": 34
        }
      },
      "source": [
        "!pip install scikit-learn==0.18"
      ],
      "execution_count": 0,
      "outputs": [
        {
          "output_type": "stream",
          "text": [
            "Requirement already satisfied: scikit-learn==0.18 in /usr/local/lib/python2.7/dist-packages (0.18)\n"
          ],
          "name": "stdout"
        }
      ]
    },
    {
      "cell_type": "code",
      "metadata": {
        "id": "vB6cjKMSmCmB",
        "colab_type": "code",
        "outputId": "767adbca-4401-4c43-b8ef-2915fbfa286b",
        "colab": {
          "base_uri": "https://localhost:8080/",
          "height": 34
        }
      },
      "source": [
        "!git clone https://github.com/udacity/ud120-projects.git"
      ],
      "execution_count": 0,
      "outputs": [
        {
          "output_type": "stream",
          "text": [
            "fatal: destination path 'ud120-projects' already exists and is not an empty directory.\n"
          ],
          "name": "stdout"
        }
      ]
    },
    {
      "cell_type": "code",
      "metadata": {
        "id": "l9JElbaD8FNj",
        "colab_type": "code",
        "outputId": "246a566a-08f9-4625-c422-b8eac53bd8bb",
        "colab": {
          "base_uri": "https://localhost:8080/",
          "height": 300
        }
      },
      "source": [
        "#!/usr/bin/python\n",
        "\n",
        "import pickle\n",
        "import sys\n",
        "import matplotlib.pyplot as plt\n",
        "sys.path.append(\"/content/ud120-projects/tools\")\n",
        "from feature_format import featureFormat, targetFeatureSplit\n",
        "\n",
        "### read in data dictionary, convert to numpy array\n",
        "data_dict = pickle.load( open(\"/content/ud120-projects/final_project/final_project_dataset_modified.pkl\", \"r\") )\n",
        "features = [\"salary\", \"bonus\"]\n",
        "data = featureFormat(data_dict, features)\n",
        "\n",
        "### your code below\n",
        "from sklearn import linear_model\n",
        "reg=linear_model.LinearRegression()\n",
        "reg.fit()\n",
        "\n",
        "\n",
        "for point in data:\n",
        "    salary = point[0]\n",
        "    bonus = point[1]\n",
        "    matplotlib.pyplot.scatter( salary, bonus )\n",
        "\n",
        "matplotlib.pyplot.xlabel(\"salary\")\n",
        "matplotlib.pyplot.ylabel(\"bonus\")\n",
        "matplotlib.pyplot.show()\n"
      ],
      "execution_count": 0,
      "outputs": [
        {
          "output_type": "display_data",
          "data": {
            "image/png": "[encoded data removed]",
            "text/plain": [
              "<Figure size 432x288 with 1 Axes>"
            ]
          },
          "metadata": {
            "tags": []
          }
        },
        {
          "output_type": "execute_result",
          "data": {
            "text/plain": [
              "<function matplotlib.pyplot.legend>"
            ]
          },
          "metadata": {
            "tags": []
          },
          "execution_count": 21
        }
      ]
    }
  ]
}