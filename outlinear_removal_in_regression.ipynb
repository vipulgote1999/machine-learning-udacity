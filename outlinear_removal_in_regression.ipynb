{
  "nbformat": 4,
  "nbformat_minor": 0,
  "metadata": {
    "colab": {
      "name": "outlinear_removal_in_regression.ipynb",
      "provenance": [],
      "toc_visible": true,
      "include_colab_link": true
    },
    "kernelspec": {
      "name": "python2",
      "display_name": "Python 2"
    },
    "accelerator": "GPU"
  },
  "cells": [
    {
      "cell_type": "markdown",
      "metadata": {
        "id": "view-in-github",
        "colab_type": "text"
      },
      "source": [
        "<a href=\"https://colab.research.google.com/github/vipulgote1999/machine-learning-udacity/blob/master/outlinear_removal_in_regression.ipynb\" target=\"_parent\"><img src=\"https://colab.research.google.com/assets/colab-badge.svg\" alt=\"Open In Colab\"/></a>"
      ]
    },
    {
      "cell_type": "code",
      "metadata": {
        "id": "VpghSlGi7jet",
        "colab_type": "code",
        "colab": {}
      },
      "source": [
        "from google.colab import drive\n",
        "drive.mount('/content/drive')"
      ],
      "execution_count": 0,
      "outputs": []
    },
    {
      "cell_type": "code",
      "metadata": {
        "id": "g3oEBGyYlR4r",
        "colab_type": "code",
        "outputId": "c1cb79f0-9d18-4ddc-c947-de2e7e9eba7b",
        "colab": {
          "base_uri": "https://localhost:8080/",
          "height": 34
        }
      },
      "source": [
        "!pip install scikit-learn==0.18"
      ],
      "execution_count": 0,
      "outputs": [
        {
          "output_type": "stream",
          "text": [
            "Requirement already satisfied: scikit-learn==0.18 in /usr/local/lib/python2.7/dist-packages (0.18)\n"
          ],
          "name": "stdout"
        }
      ]
    },
    {
      "cell_type": "code",
      "metadata": {
        "id": "vB6cjKMSmCmB",
        "colab_type": "code",
        "outputId": "f45e67a0-3968-446d-ddf7-636b892e073f",
        "colab": {
          "base_uri": "https://localhost:8080/",
          "height": 34
        }
      },
      "source": [
        "!git clone https://github.com/udacity/ud120-projects.git"
      ],
      "execution_count": 0,
      "outputs": [
        {
          "output_type": "stream",
          "text": [
            "fatal: destination path 'ud120-projects' already exists and is not an empty directory.\n"
          ],
          "name": "stdout"
        }
      ]
    },
    {
      "cell_type": "code",
      "metadata": {
        "id": "_exxel0kmSwj",
        "colab_type": "code",
        "colab": {}
      },
      "source": [
        "def outlierCleaner(predictions, ages, net_worths):\n",
        "    \"\"\"\n",
        "        Clean away the 10% of points that have the largest\n",
        "        residual errors (difference between the prediction\n",
        "        and the actual net worth).\n",
        " \n",
        "        Return a list of tuples named cleaned_data where \n",
        "        each tuple is of the form (age, net_worth, error).\n",
        "    \"\"\"\n",
        "    \n",
        "    print \"outlierCleaner activated\"\n",
        "    cleaned_data = []\n",
        "  \n",
        "    tuples = []\n",
        "    length = len(ages)\n",
        "    print(\"length\",length)\n",
        "    for i in range(length):\n",
        "        tuples.append((ages[i][0], net_worths[i][0], net_worths[i][0] - predictions[i][0]))\n",
        " \n",
        "    print \"Tuples: \", tuples\n",
        " \n",
        "    differences_tuples = []\n",
        "    for i in range(length):\n",
        "        differences_tuples.append((abs(net_worths[i][0] - predictions[i][0]), i))\n",
        "    print \"Differences: \", differences_tuples\n",
        "    differences_sorted = sorted(differences_tuples)\n",
        "    \n",
        "    # Return the indices of the datapoints to be removed\n",
        "    \n",
        "    indices_to_remove = []\n",
        "    for i in range(int(length/10)):\n",
        "        indices_to_remove.append(differences_sorted[length - 1 - i][1])\n",
        "    indices_to_remove = sorted(indices_to_remove, reverse=True)\n",
        "    print \"Indices to remove: \", indices_to_remove\n",
        " \n",
        "    # Remove the relevant tuples\n",
        "    for i in indices_to_remove:\n",
        "        del tuples[i]\n",
        "    \n",
        "    cleaned_data = tuples\n",
        "    print \"Cleaned_data: \", cleaned_data  \n",
        "    print \"Number of items in cleaned data: \", len(cleaned_data)             \n",
        "    return cleaned_data"
      ],
      "execution_count": 0,
      "outputs": []
    },
    {
      "cell_type": "markdown",
      "metadata": {
        "id": "8luy8kr2mhb2",
        "colab_type": "text"
      },
      "source": [
        "# **code begin from here**"
      ]
    },
    {
      "cell_type": "code",
      "metadata": {
        "id": "TtAERnTllOs5",
        "colab_type": "code",
        "outputId": "39053a40-608e-4a1d-ae31-1cfe346d0a87",
        "colab": {
          "base_uri": "https://localhost:8080/",
          "height": 708
        }
      },
      "source": [
        "#!/usr/bin/python\n",
        "\n",
        "import random\n",
        "import numpy\n",
        "import matplotlib.pyplot as plt\n",
        "import pickle\n",
        "import sklearn\n",
        "### load up some practice data with outliers in it\n",
        "ages = pickle.load( open(\"/content/ud120-projects/outliers/practice_outliers_ages.pkl\", \"r\") )\n",
        "net_worths = pickle.load( open(\"/content/ud120-projects/outliers/practice_outliers_net_worths.pkl\", \"r\") )\n",
        "'''print(ages)\n",
        "print(net_worths)\n",
        "'''\n",
        "\n",
        "### ages and net_worths need to be reshaped into 2D numpy arrays\n",
        "### second argument of reshape command is a tuple of integers: (n_rows, n_columns)\n",
        "### by convention, n_rows is the number of data points\n",
        "### and n_columns is the number of features\n",
        "ages       = numpy.reshape( numpy.array(ages), (len(ages), 1))\n",
        "#print(ages)\n",
        "net_worths = numpy.reshape( numpy.array(net_worths), (len(net_worths), 1))\n",
        "from sklearn.cross_validation import train_test_split\n",
        "ages_train, ages_test, net_worths_train, net_worths_test = train_test_split(ages, net_worths, test_size=0.1, random_state=42)\n",
        "\n",
        "### fill in a regression here!  Name the regression object reg so that\n",
        "### the plotting code below works, and you can see what your regression looks like\n",
        "from sklearn import linear_model\n",
        "reg=linear_model.LinearRegression()\n",
        "reg.fit(ages_train,net_worths_train)\n",
        "try:\n",
        "    plt.plot(ages, reg.predict(ages), color=\"blue\")\n",
        "except NameError:\n",
        "    pass\n",
        "plt.scatter(ages, net_worths)\n",
        "plt.show()\n",
        "\n",
        "\n",
        "### identify and remove the most outlier-y points\n",
        "cleaned_data = []\n",
        "try:\n",
        "    predictions = reg.predict(ages_train)\n",
        "    cleaned_data = outlierCleaner( predictions, ages_train, net_worths_train )\n",
        "except NameError:\n",
        "    print \"your regression object doesn't exist, or isn't name reg\"\n",
        "    print \"can't make predictions to use in identifying outliers\"\n",
        "\n",
        "### only run this code if cleaned_data is returning data\n",
        "if len(cleaned_data) > 0:\n",
        "    ages, net_worths, errors = zip(*cleaned_data)\n",
        "    ages       = numpy.reshape( numpy.array(ages), (len(ages), 1))\n",
        "    net_worths = numpy.reshape( numpy.array(net_worths), (len(net_worths), 1))\n",
        "\n",
        "    ### refit your cleaned data!\n",
        "    try:\n",
        "        reg.fit(ages, net_worths)\n",
        "        plt.plot(ages, reg.predict(ages), color=\"blue\")\n",
        "    except NameError:\n",
        "        print \"you don't seem to have regression imported/created,\"\n",
        "        print \"   or else your regression object isn't named reg\"\n",
        "        print \"   either way, only draw the scatter plot of the cleaned data\"\n",
        "    plt.scatter(ages, net_worths)\n",
        "    plt.xlabel(\"ages\")\n",
        "    plt.ylabel(\"net worths\")\n",
        "    plt.show()\n",
        "    print(reg.coef_)\n",
        "\n",
        "\n",
        "else:\n",
        "    print \"outlierCleaner() is returning an empty list, no refitting to be done\"\n",
        "print(reg.score(ages_test,net_worths_test ))\n",
        "#print(reg.coef_)"
      ],
      "execution_count": 0,
      "outputs": [
        {
          "output_type": "display_data",
          "data": {
            "image/png": "[encoded data removed]",
            "text/plain": [
              "<Figure size 432x288 with 1 Axes>"
            ]
          },
          "metadata": {
            "tags": []
          }
        },
        {
          "output_type": "stream",
          "text": [
            "outlierCleaner activated\n",
            "('length', 90)\n",
            "Tuples:  [(57, 338.08951848957577, 23.437450267845293), (57, 344.21586775541203, 29.56379953368156), (34, 243.79287311628013, 45.933209693675565), (64, 378.84578142088196, 28.64819869506971), (25, 133.88384977349668, -18.274437858145603), (53, 326.56693250553326, 32.2265868575638), (62, 389.24094136476344, 49.1992199258317), (41, 250.26985299068266, 16.864675063996287), (21, 136.08924543132068, 4.242680373439441), (53, 368.29556369017877, 73.95521804220931), (48, 318.62560238232396, 49.674909951555776), (24, 139.40479592465923, -7.675561063542773), (24, 126.98012845155395, -20.100228536648046), (30, 185.1870343522352, 7.639093503391649), (32, 187.0976049078975, -0.6061972278265557), (45, 270.00424941518054, 16.287348914733144), (52, 339.7693315999082, 50.50691659537898), (65, 34.19027438129125, -321.08523898796125), (21, 142.1012008717193, 10.254635813838064), (60, 374.28347921780096, 44.39761906574972), (43, 259.43540492859483, 15.874365715027949), (32, 221.1424445243783, 33.438642388654245), (30, 177.46485912830926, -0.0830817205342953), (58, 350.4872262016239, 30.757227336453184), (39, 134.41369498852399, -88.83562165128188), (51, 314.0672608610164, 29.882776499927445), (30, 186.05979756839332, 8.511856719549769), (55, 370.8748005714165, 66.3785936365665), (45, 256.83312700057957, 3.1162265001321714), (30, 167.24337759331152, -10.304563255532031), (36, 189.73919689274533, -18.27632781673975), (37, 247.70089824206377, 34.60744288913844), (23, 159.09869458305818, 17.09626823829643), (37, 16.507788679151513, -196.58566667377383), (24, 157.51396036691344, 10.433603378711439), (20, 96.75392597329417, -30.01470844114681), (32, 207.14225143023492, 19.43844929451086), (35, 220.96845179419734, 18.03085772815251), (45, 259.1233005198794, 5.406400019432027), (29, 142.98439510684403, -29.485615098559265), (64, 389.1123455094963, 38.91476278368407), (30, 217.96059712816052, 40.41265627931696), (47, 300.0349466519055, 36.16218486457757), (59, 342.1862790220314, 17.378349513420403), (39, 234.36051228130097, 11.111195641495101), (32, 201.83521553071006, 14.131413394985998), (61, 412.83425631014785, 77.87046551465636), (58, 378.75051644788397, 59.02051758271324), (58, 366.6772719000951, 46.947273034924365), (22, 147.76534866226712, 10.840852960945625), (27, 151.96564953554724, -10.348499382975547), (59, 129.10958748845152, -195.69834202015946), (49, 326.86999044991904, 52.841367375710604), (33, 200.22792608821422, 7.446193309049903), (37, 237.7316793878959, 24.638224034970563), (21, 151.32065795784047, 19.47409289995923), (24, 140.78722458080426, -6.293132407397735), (34, 219.7327205009527, 21.873057078348126), (49, 302.53682046672367, 28.50819739251523), (44, 64.06616829393845, -184.5728015630687), (31, 153.99862170798215, -28.627249784301654), (22, 140.9273656237994, 4.002869922477913), (27, 175.37526862807127, 13.061119709548478), (49, 313.12236579136925, 39.09374271716081), (64, 122.70221488837397, -227.49536783743827), (53, 325.0657524829757, 30.725406835006254), (38, 253.93805008750448, 35.766664091138864), (44, 274.7300555052413, 26.091085648234156), (22, 47.70052124577958, -89.2239744555419), (37, 250.76090254244718, 37.66744718952185), (51, 294.8258675183866, 10.64138315729764), (38, 221.33012794213624, 3.158741945770629), (48, 260.8065975224045, -8.144094908363684), (47, 287.91612500413447, 24.04336321680654), (21, 128.4847139765763, -3.361851081304934), (32, 186.46155999388083, -1.242242141843235), (52, 320.4844739902693, 31.22205898574009), (32, 212.95377076201385, 25.249968626289785), (27, 140.25503627573087, -22.059112642791916), (43, 275.3250221931937, 31.76398297962683), (48, 80.9013362873476, -188.0493561434206), (50, 260.1050979182051, -19.00145579944359), (65, 424.5580423540415, 69.282528984789), (46, 317.0578808948303, 58.26304975094263), (57, 385.5629753784311, 70.9109071567006), (65, 396.6665152430942, 41.391001873841674), (63, 424.51073132931936, 79.39107924694736), (49, 271.75164334973937, -2.276979724469072), (56, 121.11602327460938, -188.45811430368084), (29, 173.54835439167368, 1.0783441862703853)]\n",
            "Differences:  [(23.437450267845293, 0), (29.56379953368156, 1), (45.933209693675565, 2), (28.64819869506971, 3), (18.274437858145603, 4), (32.2265868575638, 5), (49.1992199258317, 6), (16.864675063996287, 7), (4.242680373439441, 8), (73.95521804220931, 9), (49.674909951555776, 10), (7.675561063542773, 11), (20.100228536648046, 12), (7.639093503391649, 13), (0.6061972278265557, 14), (16.287348914733144, 15), (50.50691659537898, 16), (321.08523898796125, 17), (10.254635813838064, 18), (44.39761906574972, 19), (15.874365715027949, 20), (33.438642388654245, 21), (0.0830817205342953, 22), (30.757227336453184, 23), (88.83562165128188, 24), (29.882776499927445, 25), (8.511856719549769, 26), (66.3785936365665, 27), (3.1162265001321714, 28), (10.304563255532031, 29), (18.27632781673975, 30), (34.60744288913844, 31), (17.09626823829643, 32), (196.58566667377383, 33), (10.433603378711439, 34), (30.01470844114681, 35), (19.43844929451086, 36), (18.03085772815251, 37), (5.406400019432027, 38), (29.485615098559265, 39), (38.91476278368407, 40), (40.41265627931696, 41), (36.16218486457757, 42), (17.378349513420403, 43), (11.111195641495101, 44), (14.131413394985998, 45), (77.87046551465636, 46), (59.02051758271324, 47), (46.947273034924365, 48), (10.840852960945625, 49), (10.348499382975547, 50), (195.69834202015946, 51), (52.841367375710604, 52), (7.446193309049903, 53), (24.638224034970563, 54), (19.47409289995923, 55), (6.293132407397735, 56), (21.873057078348126, 57), (28.50819739251523, 58), (184.5728015630687, 59), (28.627249784301654, 60), (4.002869922477913, 61), (13.061119709548478, 62), (39.09374271716081, 63), (227.49536783743827, 64), (30.725406835006254, 65), (35.766664091138864, 66), (26.091085648234156, 67), (89.2239744555419, 68), (37.66744718952185, 69), (10.64138315729764, 70), (3.158741945770629, 71), (8.144094908363684, 72), (24.04336321680654, 73), (3.361851081304934, 74), (1.242242141843235, 75), (31.22205898574009, 76), (25.249968626289785, 77), (22.059112642791916, 78), (31.76398297962683, 79), (188.0493561434206, 80), (19.00145579944359, 81), (69.282528984789, 82), (58.26304975094263, 83), (70.9109071567006, 84), (41.391001873841674, 85), (79.39107924694736, 86), (2.276979724469072, 87), (188.45811430368084, 88), (1.0783441862703853, 89)]\n",
            "Indices to remove:  [88, 80, 68, 64, 59, 51, 33, 24, 17]\n",
            "Cleaned_data:  [(57, 338.08951848957577, 23.437450267845293), (57, 344.21586775541203, 29.56379953368156), (34, 243.79287311628013, 45.933209693675565), (64, 378.84578142088196, 28.64819869506971), (25, 133.88384977349668, -18.274437858145603), (53, 326.56693250553326, 32.2265868575638), (62, 389.24094136476344, 49.1992199258317), (41, 250.26985299068266, 16.864675063996287), (21, 136.08924543132068, 4.242680373439441), (53, 368.29556369017877, 73.95521804220931), (48, 318.62560238232396, 49.674909951555776), (24, 139.40479592465923, -7.675561063542773), (24, 126.98012845155395, -20.100228536648046), (30, 185.1870343522352, 7.639093503391649), (32, 187.0976049078975, -0.6061972278265557), (45, 270.00424941518054, 16.287348914733144), (52, 339.7693315999082, 50.50691659537898), (21, 142.1012008717193, 10.254635813838064), (60, 374.28347921780096, 44.39761906574972), (43, 259.43540492859483, 15.874365715027949), (32, 221.1424445243783, 33.438642388654245), (30, 177.46485912830926, -0.0830817205342953), (58, 350.4872262016239, 30.757227336453184), (51, 314.0672608610164, 29.882776499927445), (30, 186.05979756839332, 8.511856719549769), (55, 370.8748005714165, 66.3785936365665), (45, 256.83312700057957, 3.1162265001321714), (30, 167.24337759331152, -10.304563255532031), (36, 189.73919689274533, -18.27632781673975), (37, 247.70089824206377, 34.60744288913844), (23, 159.09869458305818, 17.09626823829643), (24, 157.51396036691344, 10.433603378711439), (20, 96.75392597329417, -30.01470844114681), (32, 207.14225143023492, 19.43844929451086), (35, 220.96845179419734, 18.03085772815251), (45, 259.1233005198794, 5.406400019432027), (29, 142.98439510684403, -29.485615098559265), (64, 389.1123455094963, 38.91476278368407), (30, 217.96059712816052, 40.41265627931696), (47, 300.0349466519055, 36.16218486457757), (59, 342.1862790220314, 17.378349513420403), (39, 234.36051228130097, 11.111195641495101), (32, 201.83521553071006, 14.131413394985998), (61, 412.83425631014785, 77.87046551465636), (58, 378.75051644788397, 59.02051758271324), (58, 366.6772719000951, 46.947273034924365), (22, 147.76534866226712, 10.840852960945625), (27, 151.96564953554724, -10.348499382975547), (49, 326.86999044991904, 52.841367375710604), (33, 200.22792608821422, 7.446193309049903), (37, 237.7316793878959, 24.638224034970563), (21, 151.32065795784047, 19.47409289995923), (24, 140.78722458080426, -6.293132407397735), (34, 219.7327205009527, 21.873057078348126), (49, 302.53682046672367, 28.50819739251523), (31, 153.99862170798215, -28.627249784301654), (22, 140.9273656237994, 4.002869922477913), (27, 175.37526862807127, 13.061119709548478), (49, 313.12236579136925, 39.09374271716081), (53, 325.0657524829757, 30.725406835006254), (38, 253.93805008750448, 35.766664091138864), (44, 274.7300555052413, 26.091085648234156), (37, 250.76090254244718, 37.66744718952185), (51, 294.8258675183866, 10.64138315729764), (38, 221.33012794213624, 3.158741945770629), (48, 260.8065975224045, -8.144094908363684), (47, 287.91612500413447, 24.04336321680654), (21, 128.4847139765763, -3.361851081304934), (32, 186.46155999388083, -1.242242141843235), (52, 320.4844739902693, 31.22205898574009), (32, 212.95377076201385, 25.249968626289785), (27, 140.25503627573087, -22.059112642791916), (43, 275.3250221931937, 31.76398297962683), (50, 260.1050979182051, -19.00145579944359), (65, 424.5580423540415, 69.282528984789), (46, 317.0578808948303, 58.26304975094263), (57, 385.5629753784311, 70.9109071567006), (65, 396.6665152430942, 41.391001873841674), (63, 424.51073132931936, 79.39107924694736), (49, 271.75164334973937, -2.276979724469072), (29, 173.54835439167368, 1.0783441862703853)]\n",
            "Number of items in cleaned data:  81\n"
          ],
          "name": "stdout"
        },
        {
          "output_type": "display_data",
          "data": {
            "image/png": "[encoded data removed]",
            "text/plain": [
              "<Figure size 432x288 with 1 Axes>"
            ]
          },
          "metadata": {
            "tags": []
          }
        },
        {
          "output_type": "stream",
          "text": [
            "[[6.36859481]]\n",
            "0.983189455395532\n"
          ],
          "name": "stdout"
        }
      ]
    },
    {
      "cell_type": "code",
      "metadata": {
        "id": "EoejEl2hOhDD",
        "colab_type": "code",
        "outputId": "3d6cc5d7-5563-49a2-b4e0-9826b5b4e554",
        "colab": {
          "base_uri": "https://localhost:8080/",
          "height": 286
        }
      },
      "source": [
        "#!/usr/bin/python\n",
        "\n",
        "import random\n",
        "import numpy\n",
        "import matplotlib.pyplot as plt\n",
        "import pickle\n",
        "import sklearn\n",
        "### load up some practice data with outliers in it\n",
        "ages = pickle.load( open(\"/content/ud120-projects/outliers/practice_outliers_ages.pkl\", \"r\") )\n",
        "net_worths = pickle.load( open(\"/content/ud120-projects/outliers/practice_outliers_net_worths.pkl\", \"r\") )\n",
        "'''print(ages)\n",
        "print(net_worths)\n",
        "'''\n",
        "\n",
        "### ages and net_worths need to be reshaped into 2D numpy arrays\n",
        "### second argument of reshape command is a tuple of integers: (n_rows, n_columns)\n",
        "### by convention, n_rows is the number of data points\n",
        "### and n_columns is the number of features\n",
        "ages       = numpy.reshape( numpy.array(ages), (len(ages), 1))\n",
        "#print(ages)\n",
        "net_worths = numpy.reshape( numpy.array(net_worths), (len(net_worths), 1))\n",
        "from sklearn.cross_validation import train_test_split\n",
        "ages_train, ages_test, net_worths_train, net_worths_test = train_test_split(ages, net_worths, test_size=0.1, random_state=42)\n",
        "\n",
        "### fill in a regression here!  Name the regression object reg so that\n",
        "### the plotting code below works, and you can see what your regression looks like\n",
        "from sklearn import linear_model\n",
        "reg=linear_model.LinearRegression()\n",
        "reg.fit(ages_train,net_worths_train)\n",
        "try:\n",
        "    plt.plot(ages, reg.predict(ages), color=\"blue\")\n",
        "except NameError:\n",
        "    pass\n",
        "plt.scatter(ages, net_worths)\n",
        "plt.show()\n",
        "reg.score(ages_test,net_worths_test )\n"
      ],
      "execution_count": 0,
      "outputs": [
        {
          "output_type": "display_data",
          "data": {
            "image/png": "[encoded data removed]",
            "text/plain": [
              "<Figure size 432x288 with 1 Axes>"
            ]
          },
          "metadata": {
            "tags": []
          }
        },
        {
          "output_type": "execute_result",
          "data": {
            "text/plain": [
              "0.8782624703664671"
            ]
          },
          "metadata": {
            "tags": []
          },
          "execution_count": 18
        }
      ]
    }
  ]
}